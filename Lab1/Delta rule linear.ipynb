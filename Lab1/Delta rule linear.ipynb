{
 "cells": [
  {
   "cell_type": "code",
   "execution_count": 850,
   "metadata": {
    "scrolled": false
   },
   "outputs": [
    {
     "name": "stdout",
     "output_type": "stream",
     "text": [
      "[-23.13299611 -12.10960912 -26.22015808  -9.99398088 -14.38520821\n",
      " -13.70194073 -27.15644195 -22.48368031 -33.15722258 -18.80537517\n",
      " -11.14279769 -16.3656502  -11.73162862 -23.40176036 -25.13558789\n",
      " -20.45771186 -12.43168503 -26.99740994 -11.36599134 -14.18762993\n",
      "  -9.38491285 -19.6318968  -18.43514754 -21.60742759 -25.19684859\n",
      " -34.25432147 -16.87977691 -17.67368569 -23.85628811 -16.18279223\n",
      " -30.52136046 -15.16550166 -21.33846316 -26.09798833 -18.22604478\n",
      " -18.48791845 -18.43964329 -17.54892867 -18.01963192 -16.79427525\n",
      " -11.55854668 -22.42238542 -20.09175362 -25.67030323 -25.60184204\n",
      " -15.8304402  -12.26896394 -27.45552883 -13.38382931 -34.14326368\n",
      " -24.72304043 -15.90760916 -14.23800775 -20.93669859  -6.56901425\n",
      " -15.01855849  -9.64941564 -21.74615082 -18.18897124 -23.21644876\n",
      " -35.20199061  -7.81630185 -18.51748529 -22.97752896 -22.79430219\n",
      " -25.16478073 -24.36937483 -24.30245153 -29.58035168 -21.30319416\n",
      " -19.59487404 -23.4137792  -27.4919366  -19.01008632 -24.90074157\n",
      " -25.23171066 -16.94803478 -19.2282902   -9.63782457 -16.720989\n",
      " -19.45062385 -11.00264367 -27.61008373 -28.16505554 -20.34540311\n",
      " -21.27429785 -13.91364902 -19.70965612 -19.71927296 -11.78764599\n",
      " -27.8300718  -18.33326924 -19.44781201 -25.26355551 -18.71698817\n",
      " -19.28181422 -23.53211859 -24.421174   -19.02315701 -26.87517397\n",
      " -28.59550609 -21.95968787 -24.74671068 -26.42440115  -9.21009475\n",
      " -15.07769992 -14.78951988 -17.10715017 -24.02942116 -13.15411828\n",
      " -22.01686853 -19.68611488 -16.73965385 -20.68560416 -19.76003716\n",
      " -23.93111929 -11.72607787 -22.93209338 -17.83569949 -32.2968484\n",
      " -11.10904058 -24.45828556  -5.80080352 -16.41172904 -16.58405533\n",
      " -28.11749684 -13.24984827 -24.18052774 -20.4012655  -14.97808135\n",
      "  -8.48850454 -15.5262058  -23.54327192 -27.30462739 -14.00169171\n",
      " -21.26072937 -14.28804293 -28.90408736 -17.11184369 -22.19661625\n",
      " -16.51574477 -14.62246286 -26.72209858 -25.41572577 -20.12737366\n",
      " -14.36476561 -19.82297139 -18.1753281  -15.02332549 -12.58610071\n",
      " -25.46550337 -13.75694909 -40.64871715 -20.32311884 -17.89579921\n",
      " -19.25064829 -28.27040581 -16.40929746 -20.46909125 -22.19629896\n",
      " -31.45009425 -15.5734942  -17.16141424 -25.71599001 -21.21410154\n",
      " -20.56574609  -8.63498587 -16.9334176  -18.73395342 -20.52631243\n",
      " -20.46040445 -14.00181171 -18.7947348  -17.4557261   -5.11422372\n",
      " -23.27715319 -16.2744017  -15.6877168  -18.95191939 -21.10342368\n",
      " -14.0353401  -11.0348881  -20.67619713 -22.34480956 -17.791461\n",
      " -17.54591141 -20.72986458 -23.87102587 -23.37382135 -23.18893581\n",
      " -26.29950306 -31.71184981 -24.17169101 -33.47698321  -8.98404953\n",
      " -16.78178557 -34.09635417 -17.02328657 -24.38020843 -15.81096156]\n"
     ]
    },
    {
     "data": {
      "image/png": "[encoded data removed]",
      "text/plain": [
       "<matplotlib.figure.Figure at 0x106e179b0>"
      ]
     },
     "metadata": {},
     "output_type": "display_data"
    }
   ],
   "source": [
    "import numpy as np\n",
    "import matplotlib.pyplot as plt\n",
    "\n",
    "\n",
    "mean1 = [-20, 20]\n",
    "cov1 = [[40, 0], [0, 40]]\n",
    "x1, y1 = np.random.multivariate_normal(mean1, cov1, 200).T\n",
    "\n",
    "mean2 = [-10, -20]\n",
    "cov2 = [[40, 0], [0, 40]]\n",
    "x2, y2 = np.random.multivariate_normal(mean2, cov2, 200).T\n",
    "\n",
    "plt.plot(x1, y1, 'x')\n",
    "plt.plot(x2, y2, 'o')\n",
    "plt.axis('equal')\n",
    "plt.grid()\n",
    "plt.show()"
   ]
  },
  {
   "cell_type": "code",
   "execution_count": 851,
   "metadata": {
    "scrolled": true
   },
   "outputs": [],
   "source": [
    "#x1\n",
    "bias = np.ones(200, dtype=np.int) #Add bias term\n",
    "\n",
    "pos = np.column_stack([x1,y1,bias])\n",
    "neg = np.column_stack([x2,y2,bias])\n",
    "\n",
    "all_patterns = np.concatenate([pos,neg])"
   ]
  },
  {
   "cell_type": "code",
   "execution_count": null,
   "metadata": {
    "scrolled": true
   },
   "outputs": [],
   "source": []
  },
  {
   "cell_type": "code",
   "execution_count": 852,
   "metadata": {
    "scrolled": true
   },
   "outputs": [],
   "source": [
    "targets = np.ones(200,dtype=np.int)\n",
    "minus = -1 * np.ones(200,dtype=np.int)\n",
    "targets = np.append(targets,minus)\n",
    "\n",
    "all_samples = np.column_stack([all_patterns,targets])\n",
    "np.random.shuffle(all_samples)"
   ]
  },
  {
   "cell_type": "code",
   "execution_count": 853,
   "metadata": {
    "scrolled": true
   },
   "outputs": [],
   "source": [
    "patterns = all_samples[:200,:3]\n",
    "targets = all_samples[:200,3]\n",
    "\n",
    "test_patterns = all_samples[200:,:3]\n",
    "test_targets = all_samples[200:,3]\n",
    "#print(test_patterns)\n",
    "#print(test_targets)"
   ]
  },
  {
   "cell_type": "code",
   "execution_count": null,
   "metadata": {
    "scrolled": true
   },
   "outputs": [],
   "source": []
  },
  {
   "cell_type": "code",
   "execution_count": 854,
   "metadata": {
    "scrolled": true
   },
   "outputs": [],
   "source": [
    "def initWeights(dim):\n",
    "    w = []\n",
    "    for i in range(dim):\n",
    "        w.append(np.random.normal(0,0.01))\n",
    "    return w\n",
    "        "
   ]
  },
  {
   "cell_type": "code",
   "execution_count": 855,
   "metadata": {
    "scrolled": true
   },
   "outputs": [
    {
     "name": "stdout",
     "output_type": "stream",
     "text": [
      "[-0.004300832991969649, 0.0007026004385958744, -0.0077692829819645546]\n"
     ]
    }
   ],
   "source": [
    "#Dimension 2 columns, one for each dimension in input data\n",
    "#W = 0.01 * np.random.randn(2,2)\n",
    "W=initWeights(3)\n",
    "print(W)"
   ]
  },
  {
   "cell_type": "code",
   "execution_count": 856,
   "metadata": {
    "scrolled": true
   },
   "outputs": [],
   "source": [
    "def test(W,X,y):\n",
    "    predictions = []\n",
    "    corr = 0\n",
    "    for i in range(len(y)):        \n",
    "        pred = np.dot(W,X[i])\n",
    "        if pred>0:\n",
    "            predictions.append(1)\n",
    "        else:\n",
    "            predictions.append(-1)\n",
    "    #print(predictions)\n",
    "    #print(y)\n",
    "    \n",
    "    for i in range(len(predictions)):\n",
    "        if predictions[i]==y[i]:\n",
    "            corr+=1\n",
    "            \n",
    "    acc = corr/len(y)\n",
    "    return acc"
   ]
  },
  {
   "cell_type": "code",
   "execution_count": 857,
   "metadata": {
    "scrolled": true
   },
   "outputs": [
    {
     "name": "stdout",
     "output_type": "stream",
     "text": [
      "For iteration 0 acc is: 0.65\n",
      "For iteration 1 acc is: 0.655\n",
      "For iteration 2 acc is: 0.685\n",
      "For iteration 3 acc is: 0.71\n",
      "For iteration 4 acc is: 0.735\n",
      "For iteration 5 acc is: 0.735\n",
      "For iteration 6 acc is: 0.75\n",
      "For iteration 7 acc is: 0.76\n",
      "For iteration 8 acc is: 0.81\n",
      "For iteration 9 acc is: 0.845\n",
      "[-0.00434379  0.00237293 -0.00779363]\n"
     ]
    }
   ],
   "source": [
    "def train_seq(patterns,targets,W,epochs):\n",
    "    eta = 0.00001\n",
    "\n",
    "    #Sekventiell\n",
    "    for i in range(epochs):\n",
    "        prediction = np.dot(patterns[i],W) #w*X\n",
    "        error = prediction-targets[i] #beräkna felet\n",
    "\n",
    "        delta_w = -eta*np.dot(error,np.transpose(patterns[i])) #uppdatera vikterna\n",
    "        W = np.add(W,delta_w)\n",
    "        acc = test(W,test_patterns,test_targets)\n",
    "        print(\"For iteration\",i,\"acc is:\",acc)\n",
    "     \n",
    "    return W\n",
    "\n",
    "W_seq = train_seq(patterns,targets,W,10)\n",
    "print(W_seq)"
   ]
  },
  {
   "cell_type": "code",
   "execution_count": 858,
   "metadata": {
    "scrolled": true
   },
   "outputs": [
    {
     "name": "stdout",
     "output_type": "stream",
     "text": [
      "0.845\n"
     ]
    }
   ],
   "source": [
    "print(test(W_seq,test_patterns,test_targets)) "
   ]
  },
  {
   "cell_type": "code",
   "execution_count": 859,
   "metadata": {
    "scrolled": false
   },
   "outputs": [
    {
     "name": "stdout",
     "output_type": "stream",
     "text": [
      "0.08\n",
      "For epoch 0 acc is: 0.17\n",
      "For epoch 1 acc is: 0.385\n",
      "For epoch 2 acc is: 0.48\n",
      "For epoch 3 acc is: 0.51\n",
      "For epoch 4 acc is: 0.615\n",
      "For epoch 5 acc is: 0.715\n",
      "For epoch 6 acc is: 0.86\n",
      "For epoch 7 acc is: 0.92\n",
      "For epoch 8 acc is: 0.925\n",
      "For epoch 9 acc is: 0.955\n",
      "For epoch 10 acc is: 0.965\n",
      "For epoch 11 acc is: 0.98\n",
      "For epoch 12 acc is: 0.985\n",
      "For epoch 13 acc is: 0.99\n",
      "For epoch 14 acc is: 0.99\n",
      "For epoch 15 acc is: 0.99\n",
      "For epoch 16 acc is: 1.0\n",
      "For epoch 17 acc is: 1.0\n",
      "For epoch 18 acc is: 1.0\n",
      "For epoch 19 acc is: 1.0\n",
      "[-0.00907929  0.021827    0.00620005]\n",
      "1.0\n"
     ]
    }
   ],
   "source": [
    "def train_batch(patterns,targets,W,epoch):\n",
    "    eta = 0.00001\n",
    "    delta_w=0\n",
    "    print(test(W,test_patterns,test_targets))\n",
    "    for n in range(epoch):\n",
    "        error=0\n",
    "        delta_w=0\n",
    "        for i in range(len(targets)):\n",
    "            prediction = np.dot(patterns[i],W) \n",
    "            error = prediction-targets[i]\n",
    "            #print(error)\n",
    "            delta_w += -eta*np.dot(error,np.transpose(patterns[i]))\n",
    "        #uppdatera vikterna\n",
    "        delta_w = delta_w/epoch\n",
    "        ##print(delta_w)\n",
    "        W = np.add(W,delta_w)\n",
    "        acc = test(W,test_patterns,test_targets)\n",
    "        print(\"For epoch\",n,\"acc is:\",acc)\n",
    "    return W\n",
    "\n",
    "W=initWeights(3)\n",
    "W_batch = train_batch(patterns,targets,W,20)\n",
    "print(W_batch)\n",
    "print(test(W_batch,test_patterns,test_targets)) "
   ]
  },
  {
   "cell_type": "code",
   "execution_count": null,
   "metadata": {
    "scrolled": true
   },
   "outputs": [],
   "source": []
  },
  {
   "cell_type": "code",
   "execution_count": null,
   "metadata": {
    "scrolled": true
   },
   "outputs": [],
   "source": []
  },
  {
   "cell_type": "code",
   "execution_count": null,
   "metadata": {
    "scrolled": false
   },
   "outputs": [],
   "source": []
  },
  {
   "cell_type": "code",
   "execution_count": null,
   "metadata": {
    "scrolled": false
   },
   "outputs": [],
   "source": []
  },
  {
   "cell_type": "code",
   "execution_count": null,
   "metadata": {},
   "outputs": [],
   "source": []
  },
  {
   "cell_type": "code",
   "execution_count": null,
   "metadata": {},
   "outputs": [],
   "source": []
  },
  {
   "cell_type": "code",
   "execution_count": null,
   "metadata": {},
   "outputs": [],
   "source": []
  }
 ],
 "metadata": {
  "kernelspec": {
   "display_name": "Python 3",
   "language": "python",
   "name": "python3"
  },
  "language_info": {
   "codemirror_mode": {
    "name": "ipython",
    "version": 3
   },
   "file_extension": ".py",
   "mimetype": "text/x-python",
   "name": "python",
   "nbconvert_exporter": "python",
   "pygments_lexer": "ipython3",
   "version": "3.6.1"
  }
 },
 "nbformat": 4,
 "nbformat_minor": 2
}
