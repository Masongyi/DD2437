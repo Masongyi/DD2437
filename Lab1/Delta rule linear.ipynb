{
 "cells": [
  {
   "cell_type": "code",
   "execution_count": 163,
   "metadata": {
    "scrolled": false
   },
   "outputs": [
    {
     "data": {
      "image/png": "[encoded data removed]",
      "text/plain": [
       "<matplotlib.figure.Figure at 0x7f6c584b0b38>"
      ]
     },
     "metadata": {},
     "output_type": "display_data"
    }
   ],
   "source": [
    "import numpy as np\n",
    "import matplotlib.pyplot as plt\n",
    "import time\n",
    "\n",
    "\n",
    "mean1 = [-20, 20]\n",
    "cov1 = [[40, 0], [0, 40]]\n",
    "x1, y1 = np.random.multivariate_normal(mean1, cov1, 200).T\n",
    "\n",
    "mean2 = [-10, -20]\n",
    "cov2 = [[40, 0], [0, 40]]\n",
    "x2, y2 = np.random.multivariate_normal(mean2, cov2, 200).T\n",
    "\n",
    "plt.plot(x1, y1, 'x')\n",
    "plt.plot(x2, y2, 'o')\n",
    "plt.axis('equal')\n",
    "plt.grid()\n",
    "plt.show()"
   ]
  },
  {
   "cell_type": "code",
   "execution_count": 113,
   "metadata": {
    "collapsed": true,
    "scrolled": true
   },
   "outputs": [],
   "source": [
    "#x1\n",
    "bias = np.ones(200, dtype=np.int) #Add bias term\n",
    "\n",
    "pos = np.column_stack([x1,y1,bias])\n",
    "neg = np.column_stack([x2,y2,bias])\n",
    "\n",
    "all_patterns = np.concatenate([pos,neg])"
   ]
  },
  {
   "cell_type": "code",
   "execution_count": null,
   "metadata": {
    "collapsed": true,
    "scrolled": true
   },
   "outputs": [],
   "source": []
  },
  {
   "cell_type": "code",
   "execution_count": 114,
   "metadata": {
    "collapsed": true,
    "scrolled": true
   },
   "outputs": [],
   "source": [
    "targets = np.ones(200,dtype=np.int)\n",
    "minus = -1 * np.ones(200,dtype=np.int)\n",
    "targets = np.append(targets,minus)\n",
    "\n",
    "all_samples = np.column_stack([all_patterns,targets])\n",
    "np.random.shuffle(all_samples)"
   ]
  },
  {
   "cell_type": "code",
   "execution_count": 115,
   "metadata": {
    "collapsed": true,
    "scrolled": true
   },
   "outputs": [],
   "source": [
    "patterns = all_samples[:200,:3]\n",
    "targets = all_samples[:200,3]\n",
    "\n",
    "test_patterns = all_samples[200:,:3]\n",
    "test_targets = all_samples[200:,3]\n",
    "#print(test_patterns)\n",
    "#print(test_targets)"
   ]
  },
  {
   "cell_type": "code",
   "execution_count": null,
   "metadata": {
    "collapsed": true,
    "scrolled": true
   },
   "outputs": [],
   "source": []
  },
  {
   "cell_type": "code",
   "execution_count": 116,
   "metadata": {
    "collapsed": true,
    "scrolled": true
   },
   "outputs": [],
   "source": [
    "def initWeights(dim):\n",
    "    w = []\n",
    "    for i in range(dim):\n",
    "        w.append(np.random.normal(0,0.01))\n",
    "    return w\n",
    "        "
   ]
  },
  {
   "cell_type": "code",
   "execution_count": 117,
   "metadata": {
    "scrolled": true
   },
   "outputs": [
    {
     "name": "stdout",
     "output_type": "stream",
     "text": [
      "[0.007292129130810139, 0.013416215070821094, -0.013424854244909136]\n"
     ]
    }
   ],
   "source": [
    "#Dimension 2 columns, one for each dimension in input data\n",
    "#W = 0.01 * np.random.randn(2,2)\n",
    "W=initWeights(3)\n",
    "print(W)"
   ]
  },
  {
   "cell_type": "code",
   "execution_count": 118,
   "metadata": {
    "collapsed": true,
    "scrolled": true
   },
   "outputs": [],
   "source": [
    "def test(W,X,y):\n",
    "    predictions = []\n",
    "    corr = 0\n",
    "    for i in range(len(y)):        \n",
    "        pred = np.dot(W,X[i])\n",
    "        if pred>0:\n",
    "            predictions.append(1)\n",
    "        else:\n",
    "            predictions.append(-1)\n",
    "    #print(predictions)\n",
    "    #print(y)\n",
    "    \n",
    "    for i in range(len(predictions)):\n",
    "        if predictions[i]==y[i]:\n",
    "            corr+=1\n",
    "            \n",
    "    acc = corr/len(y)\n",
    "    return acc"
   ]
  },
  {
   "cell_type": "code",
   "execution_count": 119,
   "metadata": {
    "scrolled": true
   },
   "outputs": [
    {
     "name": "stdout",
     "output_type": "stream",
     "text": [
      "For iteration 0 acc is: 0.94\n",
      "For iteration 1 acc is: 0.94\n",
      "For iteration 2 acc is: 0.95\n",
      "For iteration 3 acc is: 0.95\n",
      "For iteration 4 acc is: 0.96\n",
      "For iteration 5 acc is: 0.96\n",
      "For iteration 6 acc is: 0.96\n",
      "For iteration 7 acc is: 0.96\n",
      "For iteration 8 acc is: 0.965\n",
      "For iteration 9 acc is: 0.965\n",
      "[ 0.00708065  0.01485443 -0.0134276 ]\n"
     ]
    }
   ],
   "source": [
    "def train_seq(patterns,targets,W,epochs):\n",
    "    eta = 0.00001\n",
    "\n",
    "    #Sekventiell\n",
    "    for i in range(epochs):\n",
    "        prediction = np.dot(patterns[i],W) #w*X\n",
    "        error = prediction-targets[i] #beräkna felet\n",
    "\n",
    "        delta_w = -eta*np.dot(error,np.transpose(patterns[i])) #uppdatera vikterna\n",
    "        W = np.add(W,delta_w)\n",
    "        acc = test(W,test_patterns,test_targets)\n",
    "        print(\"For iteration\",i,\"acc is:\",acc)\n",
    "     \n",
    "    return W\n",
    "\n",
    "W_seq = train_seq(patterns,targets,W,10)\n",
    "print(W_seq)"
   ]
  },
  {
   "cell_type": "code",
   "execution_count": 120,
   "metadata": {
    "scrolled": true
   },
   "outputs": [
    {
     "name": "stdout",
     "output_type": "stream",
     "text": [
      "0.965\n"
     ]
    }
   ],
   "source": [
    "print(test(W_seq,test_patterns,test_targets)) "
   ]
  },
  {
   "cell_type": "code",
   "execution_count": 135,
   "metadata": {
    "scrolled": false
   },
   "outputs": [
    {
     "name": "stdout",
     "output_type": "stream",
     "text": [
      "0.24\n",
      "For epoch 0 acc is: 0.36\n",
      "For epoch 1 acc is: 0.46\n",
      "For epoch 2 acc is: 0.5\n",
      "For epoch 3 acc is: 0.585\n",
      "For epoch 4 acc is: 0.785\n",
      "For epoch 5 acc is: 0.905\n",
      "For epoch 6 acc is: 0.98\n",
      "For epoch 7 acc is: 0.99\n",
      "For epoch 8 acc is: 0.995\n",
      "For epoch 9 acc is: 0.995\n",
      "For epoch 10 acc is: 0.995\n",
      "For epoch 11 acc is: 0.995\n",
      "For epoch 12 acc is: 0.995\n",
      "For epoch 13 acc is: 0.995\n",
      "For epoch 14 acc is: 0.995\n",
      "For epoch 15 acc is: 1.0\n",
      "For epoch 16 acc is: 1.0\n",
      "For epoch 17 acc is: 1.0\n",
      "For epoch 18 acc is: 1.0\n",
      "For epoch 19 acc is: 1.0\n",
      "[ 0.00045003  0.02576976  0.00227969]\n",
      "1.0\n"
     ]
    }
   ],
   "source": [
    "def train_batch(patterns,targets,W,epoch):\n",
    "    eta = 0.0001\n",
    "    delta_w=0\n",
    "    print(test(W,test_patterns,test_targets))\n",
    "    for n in range(epoch):\n",
    "        error=0\n",
    "        delta_w=0\n",
    "        for i in range(len(targets)):\n",
    "            prediction = np.dot(patterns[i],W) \n",
    "            error = prediction-targets[i]\n",
    "            #print(error)\n",
    "            delta_w += -eta*np.dot(error,np.transpose(patterns[i]))\n",
    "        #uppdatera vikterna\n",
    "        delta_w = delta_w/len(targets)\n",
    "        ##print(delta_w)\n",
    "        W = np.add(W,delta_w)\n",
    "        acc = test(W,test_patterns,test_targets)\n",
    "        print(\"For epoch\",n,\"acc is:\",acc)\n",
    "    return W\n",
    "\n",
    "W=initWeights(3)\n",
    "W_batch = train_batch(patterns,targets,W,20)\n",
    "print(W_batch)\n",
    "print(test(W_batch,test_patterns,test_targets)) "
   ]
  },
  {
   "cell_type": "code",
   "execution_count": 128,
   "metadata": {
    "scrolled": true
   },
   "outputs": [
    {
     "name": "stdout",
     "output_type": "stream",
     "text": [
      "For epoch 0 acc is: 0.955 Missprediction in training 31\n",
      "For epoch 1 acc is: 0.98 Missprediction in training 4\n",
      "For epoch 2 acc is: 0.98 Missprediction in training 1\n",
      "For epoch 3 acc is: 0.98 Missprediction in training 1\n",
      "For epoch 4 acc is: 0.98 Missprediction in training 1\n",
      "For epoch 5 acc is: 0.98 Missprediction in training 1\n",
      "For epoch 6 acc is: 0.98 Missprediction in training 1\n",
      "For epoch 7 acc is: 0.98 Missprediction in training 1\n",
      "For epoch 8 acc is: 0.98 Missprediction in training 1\n",
      "For epoch 9 acc is: 0.98 Missprediction in training 1\n",
      "For epoch 10 acc is: 0.985 Missprediction in training 1\n",
      "For epoch 11 acc is: 0.98 Missprediction in training 1\n",
      "For epoch 12 acc is: 0.98 Missprediction in training 1\n",
      "For epoch 13 acc is: 0.965 Missprediction in training 2\n",
      "For epoch 14 acc is: 0.95 Missprediction in training 6\n",
      "For epoch 15 acc is: 0.57 Missprediction in training 37\n",
      "For epoch 16 acc is: 0.955 Missprediction in training 36\n",
      "For epoch 17 acc is: 0.98 Missprediction in training 5\n",
      "For epoch 18 acc is: 0.985 Missprediction in training 1\n",
      "For epoch 19 acc is: 0.99 Missprediction in training 1\n",
      "[-0.00550174  0.00802976 -0.01509178]\n"
     ]
    }
   ],
   "source": [
    "def trainPerc_seq(patterns, targets, W, epochs):\n",
    "    eta = 0.00001\n",
    "    for i in range(epochs):\n",
    "        counter = 0\n",
    "        for j in range(len(patterns)):\n",
    "            prediction = np.dot(patterns[j],W) #w*X\n",
    "            if not (prediction<0)==(targets[j]<0):\n",
    "                counter = counter + 1\n",
    "                error = targets[i]-prediction\n",
    "                delta_w = eta*np.dot(error,np.transpose(patterns[j]))\n",
    "                W = np.add(W, delta_w)\n",
    "        acc = test(W,test_patterns,test_targets)\n",
    "        print(\"For epoch\",i,\"acc is:\",acc,\"Missprediction in training\",counter)\n",
    "     \n",
    "    return W\n",
    "\n",
    "W=initWeights(3)\n",
    "W_perc_seq = trainPerc_seq(patterns,targets,W,20)\n",
    "print(W_perc_seq)"
   ]
  },
  {
   "cell_type": "code",
   "execution_count": 186,
   "metadata": {
    "scrolled": true
   },
   "outputs": [
    {
     "name": "stdout",
     "output_type": "stream",
     "text": [
      "For epoch 0 acc is: 0.78 Missprediction in training 84\n",
      "For epoch 1 acc is: 0.86 Missprediction in training 54\n",
      "For epoch 2 acc is: 0.835 Missprediction in training 26\n",
      "For epoch 3 acc is: 0.88 Missprediction in training 33\n",
      "For epoch 4 acc is: 0.845 Missprediction in training 25\n",
      "For epoch 5 acc is: 0.91 Missprediction in training 33\n",
      "For epoch 6 acc is: 0.86 Missprediction in training 21\n",
      "For epoch 7 acc is: 0.91 Missprediction in training 26\n",
      "For epoch 8 acc is: 0.88 Missprediction in training 18\n",
      "For epoch 9 acc is: 0.935 Missprediction in training 25\n",
      "For epoch 10 acc is: 0.94 Missprediction in training 16\n",
      "For epoch 11 acc is: 0.935 Missprediction in training 11\n",
      "For epoch 12 acc is: 0.91 Missprediction in training 13\n",
      "For epoch 13 acc is: 0.88 Missprediction in training 17\n",
      "For epoch 14 acc is: 0.845 Missprediction in training 24\n",
      "For epoch 15 acc is: 0.815 Missprediction in training 32\n",
      "For epoch 16 acc is: 0.87 Missprediction in training 44\n",
      "For epoch 17 acc is: 0.915 Missprediction in training 25\n",
      "For epoch 18 acc is: 0.935 Missprediction in training 17\n",
      "For epoch 19 acc is: 0.95 Missprediction in training 11\n",
      "[-0.00444204  0.00572427  0.0091942 ]\n"
     ]
    }
   ],
   "source": [
    "def trainPerc_batch(patterns, targets, W, epochs):\n",
    "    eta=0.000001\n",
    "    for i in range(epochs):\n",
    "        counter = 0\n",
    "        delta_w = 0\n",
    "        for j in range(len(patterns)):\n",
    "            prediction = np.dot(patterns[j],W) #w*X\n",
    "            if not (prediction<0)==(targets[j]<0):\n",
    "                counter += 1\n",
    "                error = targets[i]-prediction\n",
    "                delta_w += eta*np.dot(error,np.transpose(patterns[j]))\n",
    "        \n",
    "        delta_w = delta_w\n",
    "        W = np.add(W, delta_w)\n",
    "        acc = test(W,test_patterns,test_targets)\n",
    "        print(\"For epoch\",i,\"acc is:\",acc,\"Missprediction in training\",counter)\n",
    "     \n",
    "    return W\n",
    "\n",
    "W=initWeights(3)\n",
    "W_perc_batch = trainPerc_batch(patterns,targets,W,20)\n",
    "print(W_perc_batch)"
   ]
  },
  {
   "cell_type": "code",
   "execution_count": null,
   "metadata": {
    "scrolled": false
   },
   "outputs": [],
   "source": [
    "\n"
   ]
  },
  {
   "cell_type": "code",
   "execution_count": null,
   "metadata": {
    "collapsed": true,
    "scrolled": false
   },
   "outputs": [],
   "source": []
  },
  {
   "cell_type": "code",
   "execution_count": null,
   "metadata": {
    "collapsed": true
   },
   "outputs": [],
   "source": []
  },
  {
   "cell_type": "code",
   "execution_count": null,
   "metadata": {
    "collapsed": true
   },
   "outputs": [],
   "source": []
  },
  {
   "cell_type": "code",
   "execution_count": null,
   "metadata": {
    "collapsed": true
   },
   "outputs": [],
   "source": []
  }
 ],
 "metadata": {
  "kernelspec": {
   "display_name": "Python 3",
   "language": "python",
   "name": "python3"
  },
  "language_info": {
   "codemirror_mode": {
    "name": "ipython",
    "version": 3
   },
   "file_extension": ".py",
   "mimetype": "text/x-python",
   "name": "python",
   "nbconvert_exporter": "python",
   "pygments_lexer": "ipython3",
   "version": "3.5.2"
  }
 },
 "nbformat": 4,
 "nbformat_minor": 2
}
