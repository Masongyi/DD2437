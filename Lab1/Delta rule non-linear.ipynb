{
 "cells": [
  {
   "cell_type": "code",
   "execution_count": 1,
   "metadata": {
    "scrolled": false
   },
   "outputs": [
    {
     "data": {
      "image/png": "[encoded data removed]",
      "text/plain": [
       "<matplotlib.figure.Figure at 0x7f355c4340b8>"
      ]
     },
     "metadata": {},
     "output_type": "display_data"
    }
   ],
   "source": [
    "import numpy as np\n",
    "import matplotlib.pyplot as plt\n",
    "\n",
    "\n",
    "mean1 = [-20, 20]\n",
    "cov1 = [[40, 0], [0, 40]]\n",
    "x1, y1 = np.random.multivariate_normal(mean1, cov1, 200).T\n",
    "\n",
    "mean2 = [-15, 0]\n",
    "cov2 = [[40, 0], [0, 40]]\n",
    "x2, y2 = np.random.multivariate_normal(mean2, cov2, 200).T\n",
    "\n",
    "plt.plot(x1, y1, 'x')\n",
    "plt.plot(x2, y2, 'o')\n",
    "plt.axis('equal')\n",
    "plt.grid()\n",
    "plt.show()"
   ]
  },
  {
   "cell_type": "code",
   "execution_count": 2,
   "metadata": {
    "collapsed": true,
    "scrolled": true
   },
   "outputs": [],
   "source": [
    "#x1\n",
    "bias = np.ones(200, dtype=np.int) #Add bias term\n",
    "\n",
    "pos = np.column_stack([x1,y1,bias])\n",
    "neg = np.column_stack([x2,y2,bias])\n",
    "\n",
    "all_patterns = np.concatenate([pos,neg])"
   ]
  },
  {
   "cell_type": "code",
   "execution_count": null,
   "metadata": {
    "collapsed": true,
    "scrolled": true
   },
   "outputs": [],
   "source": []
  },
  {
   "cell_type": "code",
   "execution_count": 3,
   "metadata": {
    "collapsed": true,
    "scrolled": true
   },
   "outputs": [],
   "source": [
    "targets = np.ones(200,dtype=np.int)\n",
    "minus = -1 * np.ones(200,dtype=np.int)\n",
    "targets = np.append(targets,minus)\n",
    "\n",
    "all_samples = np.column_stack([all_patterns,targets])\n",
    "np.random.shuffle(all_samples)"
   ]
  },
  {
   "cell_type": "code",
   "execution_count": 4,
   "metadata": {
    "collapsed": true,
    "scrolled": true
   },
   "outputs": [],
   "source": [
    "patterns = all_samples[:200,:3]\n",
    "targets = all_samples[:200,3]\n",
    "\n",
    "test_patterns = all_samples[200:,:3]\n",
    "test_targets = all_samples[200:,3]\n",
    "#print(test_patterns)\n",
    "#print(test_targets)"
   ]
  },
  {
   "cell_type": "code",
   "execution_count": null,
   "metadata": {
    "collapsed": true,
    "scrolled": true
   },
   "outputs": [],
   "source": []
  },
  {
   "cell_type": "code",
   "execution_count": 5,
   "metadata": {
    "collapsed": true,
    "scrolled": true
   },
   "outputs": [],
   "source": [
    "def initWeights(dim):\n",
    "    w = []\n",
    "    for i in range(dim):\n",
    "        w.append(np.random.normal(0,0.01))\n",
    "    return w\n",
    "        "
   ]
  },
  {
   "cell_type": "code",
   "execution_count": 6,
   "metadata": {
    "scrolled": true
   },
   "outputs": [
    {
     "name": "stdout",
     "output_type": "stream",
     "text": [
      "[-0.007911176516444492, 5.025322586620026e-05, -0.002866571678894257]\n"
     ]
    }
   ],
   "source": [
    "#Dimension 2 columns, one for each dimension in input data\n",
    "#W = 0.01 * np.random.randn(2,2)\n",
    "W=initWeights(3)\n",
    "print(W)"
   ]
  },
  {
   "cell_type": "code",
   "execution_count": 7,
   "metadata": {
    "collapsed": true,
    "scrolled": true
   },
   "outputs": [],
   "source": [
    "def test(W,X,y):\n",
    "    predictions = []\n",
    "    corr = 0\n",
    "    for i in range(len(y)):        \n",
    "        pred = np.dot(W,X[i])\n",
    "        if pred>0:\n",
    "            predictions.append(1)\n",
    "        else:\n",
    "            predictions.append(-1)\n",
    "    #print(predictions)\n",
    "    #print(y)\n",
    "    \n",
    "    for i in range(len(predictions)):\n",
    "        if predictions[i]==y[i]:\n",
    "            corr+=1\n",
    "            \n",
    "    acc = corr/len(y)\n",
    "    return acc"
   ]
  },
  {
   "cell_type": "code",
   "execution_count": 8,
   "metadata": {
    "scrolled": true
   },
   "outputs": [
    {
     "name": "stdout",
     "output_type": "stream",
     "text": [
      "Before training:  0.515\n",
      "For iteration 0 acc is: 0.515\n",
      "For iteration 1 acc is: 0.515\n",
      "For iteration 2 acc is: 0.515\n",
      "For iteration 3 acc is: 0.515\n",
      "For iteration 4 acc is: 0.515\n",
      "For iteration 5 acc is: 0.515\n",
      "For iteration 6 acc is: 0.515\n",
      "For iteration 7 acc is: 0.515\n",
      "For iteration 8 acc is: 0.515\n",
      "For iteration 9 acc is: 0.515\n",
      "For iteration 10 acc is: 0.515\n",
      "For iteration 11 acc is: 0.515\n",
      "For iteration 12 acc is: 0.515\n",
      "For iteration 13 acc is: 0.515\n",
      "For iteration 14 acc is: 0.515\n",
      "For iteration 15 acc is: 0.515\n",
      "For iteration 16 acc is: 0.515\n",
      "For iteration 17 acc is: 0.515\n",
      "For iteration 18 acc is: 0.515\n",
      "For iteration 19 acc is: 0.515\n",
      "[-0.00755851  0.00120564 -0.00290076]\n"
     ]
    }
   ],
   "source": [
    "def train_seq(patterns,targets,W,epochs):\n",
    "    eta = 0.00001\n",
    "\n",
    "    #Sekventiell\n",
    "    print(\"Before training: \",test(W,test_patterns,test_targets))\n",
    "    for i in range(epochs):\n",
    "        prediction = np.dot(patterns[i],W) #w*X\n",
    "        error = prediction-targets[i] #beräkna felet\n",
    "\n",
    "        delta_w = -eta*np.dot(error,np.transpose(patterns[i])) #uppdatera vikterna\n",
    "        W = np.add(W,delta_w)\n",
    "        acc = test(W,test_patterns,test_targets)\n",
    "        print(\"For iteration\",i,\"acc is:\",acc)\n",
    "     \n",
    "    return W\n",
    "\n",
    "W_seq = train_seq(patterns,targets,W,20)\n",
    "print(W_seq)"
   ]
  },
  {
   "cell_type": "code",
   "execution_count": 9,
   "metadata": {
    "scrolled": true
   },
   "outputs": [
    {
     "name": "stdout",
     "output_type": "stream",
     "text": [
      "0.515\n"
     ]
    }
   ],
   "source": [
    "print(test(W_seq,test_patterns,test_targets)) "
   ]
  },
  {
   "cell_type": "code",
   "execution_count": 10,
   "metadata": {
    "scrolled": false
   },
   "outputs": [
    {
     "name": "stdout",
     "output_type": "stream",
     "text": [
      "Before training:  0.26\n",
      "For epoch 1 acc is: 0.24\n",
      "For epoch 2 acc is: 0.235\n",
      "For epoch 3 acc is: 0.195\n",
      "For epoch 4 acc is: 0.175\n",
      "For epoch 5 acc is: 0.155\n",
      "For epoch 6 acc is: 0.14\n",
      "For epoch 7 acc is: 0.125\n",
      "For epoch 8 acc is: 0.09\n",
      "For epoch 9 acc is: 0.08\n",
      "For epoch 10 acc is: 0.17\n",
      "For epoch 11 acc is: 0.28\n",
      "For epoch 12 acc is: 0.485\n",
      "For epoch 13 acc is: 0.515\n",
      "For epoch 14 acc is: 0.515\n",
      "For epoch 15 acc is: 0.515\n",
      "For epoch 16 acc is: 0.525\n",
      "For epoch 17 acc is: 0.53\n",
      "For epoch 18 acc is: 0.55\n",
      "For epoch 19 acc is: 0.555\n",
      "For epoch 20 acc is: 0.575\n",
      "[-0.00272152  0.00567382  0.0047818 ]\n",
      "0.575\n"
     ]
    }
   ],
   "source": [
    "def train_batch(patterns,targets,W,epoch):\n",
    "    eta = 0.00001\n",
    "    delta_w=0\n",
    "    print(\"Before training: \",test(W,test_patterns,test_targets))\n",
    "    for n in range(epoch):\n",
    "        error=0\n",
    "        delta_w=0\n",
    "        for i in range(len(targets)):\n",
    "            prediction = np.dot(patterns[i],W) \n",
    "            error = prediction-targets[i]\n",
    "            #print(error)\n",
    "            delta_w += -eta*np.dot(error,np.transpose(patterns[i]))\n",
    "        #uppdatera vikterna\n",
    "        delta_w = delta_w/epoch\n",
    "        ##print(delta_w)\n",
    "        W = np.add(W,delta_w)\n",
    "        acc = test(W,test_patterns,test_targets)\n",
    "        print(\"For epoch\",n+1,\"acc is:\",acc)\n",
    "    return W\n",
    "\n",
    "W=initWeights(3)\n",
    "W_batch = train_batch(patterns,targets,W,20)\n",
    "print(W_batch)\n",
    "print(test(W_batch,test_patterns,test_targets)) "
   ]
  },
  {
   "cell_type": "code",
   "execution_count": 11,
   "metadata": {
    "scrolled": true
   },
   "outputs": [
    {
     "name": "stdout",
     "output_type": "stream",
     "text": [
      "For epoch 0 acc is: 0.48 Missprediction in training 99\n",
      "For epoch 1 acc is: 0.89 Missprediction in training 64\n",
      "For epoch 2 acc is: 0.53 Missprediction in training 60\n",
      "For epoch 3 acc is: 0.515 Missprediction in training 102\n",
      "For epoch 4 acc is: 0.515 Missprediction in training 103\n",
      "For epoch 5 acc is: 0.525 Missprediction in training 103\n",
      "For epoch 6 acc is: 0.515 Missprediction in training 102\n",
      "For epoch 7 acc is: 0.7 Missprediction in training 100\n",
      "For epoch 8 acc is: 0.485 Missprediction in training 60\n",
      "For epoch 9 acc is: 0.535 Missprediction in training 66\n",
      "For epoch 10 acc is: 0.48 Missprediction in training 67\n",
      "For epoch 11 acc is: 0.515 Missprediction in training 76\n",
      "For epoch 12 acc is: 0.515 Missprediction in training 103\n",
      "For epoch 13 acc is: 0.705 Missprediction in training 103\n",
      "For epoch 14 acc is: 0.515 Missprediction in training 101\n",
      "For epoch 15 acc is: 0.86 Missprediction in training 86\n",
      "For epoch 16 acc is: 0.475 Missprediction in training 95\n",
      "For epoch 17 acc is: 0.47 Missprediction in training 102\n",
      "For epoch 18 acc is: 0.47 Missprediction in training 102\n",
      "For epoch 19 acc is: 0.85 Missprediction in training 83\n",
      "[ 0.00099692  0.00137175  0.00815346]\n"
     ]
    }
   ],
   "source": [
    "def trainPerc_seq(patterns, targets, W, epochs):\n",
    "    eta = 0.00001\n",
    "    for i in range(epochs):\n",
    "        counter = 0\n",
    "        for j in range(len(patterns)):\n",
    "            prediction = np.dot(patterns[j],W) #w*X\n",
    "            if not (prediction<0)==(targets[j]<0):\n",
    "                counter = counter + 1\n",
    "                error = targets[i]-prediction\n",
    "                delta_w = eta*np.dot(error,np.transpose(patterns[j]))\n",
    "                W = np.add(W, delta_w)\n",
    "        acc = test(W,test_patterns,test_targets)\n",
    "        print(\"For epoch\",i,\"acc is:\",acc,\"Missprediction in training\",counter)\n",
    "     \n",
    "    return W\n",
    "\n",
    "W=initWeights(3)\n",
    "W_perc_seq = trainPerc_seq(patterns,targets,W,20)\n",
    "print(W_perc_seq)"
   ]
  },
  {
   "cell_type": "code",
   "execution_count": 12,
   "metadata": {
    "scrolled": true
   },
   "outputs": [
    {
     "name": "stdout",
     "output_type": "stream",
     "text": [
      "For epoch 0 acc is: 0.485 Missprediction in training 97\n",
      "For epoch 1 acc is: 0.485 Missprediction in training 97\n",
      "For epoch 2 acc is: 0.49 Missprediction in training 97\n",
      "For epoch 3 acc is: 0.91 Missprediction in training 96\n",
      "For epoch 4 acc is: 0.925 Missprediction in training 13\n",
      "For epoch 5 acc is: 0.91 Missprediction in training 14\n",
      "For epoch 6 acc is: 0.93 Missprediction in training 13\n",
      "For epoch 7 acc is: 0.91 Missprediction in training 14\n",
      "For epoch 8 acc is: 0.865 Missprediction in training 13\n",
      "For epoch 9 acc is: 0.915 Missprediction in training 19\n",
      "For epoch 10 acc is: 0.89 Missprediction in training 15\n",
      "For epoch 11 acc is: 0.915 Missprediction in training 14\n",
      "For epoch 12 acc is: 0.94 Missprediction in training 14\n",
      "For epoch 13 acc is: 0.915 Missprediction in training 14\n",
      "For epoch 14 acc is: 0.94 Missprediction in training 14\n",
      "For epoch 15 acc is: 0.915 Missprediction in training 15\n",
      "For epoch 16 acc is: 0.905 Missprediction in training 14\n",
      "For epoch 17 acc is: 0.855 Missprediction in training 12\n",
      "For epoch 18 acc is: 0.775 Missprediction in training 23\n",
      "For epoch 19 acc is: 0.915 Missprediction in training 38\n",
      "[ 0.00061701  0.00368558 -0.02421738]\n"
     ]
    }
   ],
   "source": [
    "def trainPerc_batch(patterns, targets, W, epochs):\n",
    "    eta=0.000001\n",
    "    for i in range(epochs):\n",
    "        counter = 0\n",
    "        delta_w = 0\n",
    "        for j in range(len(patterns)):\n",
    "            prediction = np.dot(patterns[j],W) #w*X\n",
    "            if not (prediction<0)==(targets[j]<0):\n",
    "                counter += 1\n",
    "                error = targets[i]-prediction\n",
    "                delta_w += eta*np.dot(error,np.transpose(patterns[j]))\n",
    "        \n",
    "        delta_w = delta_w\n",
    "        W = np.add(W, delta_w)\n",
    "        acc = test(W,test_patterns,test_targets)\n",
    "        print(\"For epoch\",i,\"acc is:\",acc,\"Missprediction in training\",counter)\n",
    "     \n",
    "    return W\n",
    "\n",
    "W=initWeights(3)\n",
    "W_perc_batch = trainPerc_batch(patterns,targets,W,20)\n",
    "print(W_perc_batch)"
   ]
  },
  {
   "cell_type": "code",
   "execution_count": null,
   "metadata": {
    "collapsed": true,
    "scrolled": false
   },
   "outputs": [],
   "source": []
  },
  {
   "cell_type": "code",
   "execution_count": null,
   "metadata": {
    "collapsed": true,
    "scrolled": false
   },
   "outputs": [],
   "source": []
  },
  {
   "cell_type": "code",
   "execution_count": null,
   "metadata": {
    "collapsed": true
   },
   "outputs": [],
   "source": []
  },
  {
   "cell_type": "code",
   "execution_count": null,
   "metadata": {
    "collapsed": true
   },
   "outputs": [],
   "source": []
  },
  {
   "cell_type": "code",
   "execution_count": null,
   "metadata": {
    "collapsed": true
   },
   "outputs": [],
   "source": []
  }
 ],
 "metadata": {
  "kernelspec": {
   "display_name": "Python 3",
   "language": "python",
   "name": "python3"
  },
  "language_info": {
   "codemirror_mode": {
    "name": "ipython",
    "version": 3
   },
   "file_extension": ".py",
   "mimetype": "text/x-python",
   "name": "python",
   "nbconvert_exporter": "python",
   "pygments_lexer": "ipython3",
   "version": "3.5.2"
  }
 },
 "nbformat": 4,
 "nbformat_minor": 2
}
