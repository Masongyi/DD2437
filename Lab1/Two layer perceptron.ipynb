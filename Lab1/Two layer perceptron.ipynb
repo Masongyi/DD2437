{
 "cells": [
  {
   "cell_type": "markdown",
   "metadata": {},
   "source": [
    "# General Neural Network skeleton"
   ]
  },
  {
   "cell_type": "code",
   "execution_count": null,
   "metadata": {
    "collapsed": true
   },
   "outputs": [],
   "source": [
    "import numpy as np\n"
   ]
  },
  {
   "cell_type": "code",
   "execution_count": null,
   "metadata": {
    "collapsed": true
   },
   "outputs": [],
   "source": [
    "class layer():\n",
    "    def __init__(self):\n",
    "        pass"
   ]
  },
  {
   "cell_type": "code",
   "execution_count": null,
   "metadata": {
    "collapsed": true
   },
   "outputs": [],
   "source": [
    "class nerualNet():\n",
    "    def __init__(self):\n",
    "        pass\n",
    "    \n",
    "    #Introduces non-linearity\n",
    "    def transferFunc(self,x):\n",
    "        transformed = 2/(1+np.exp(-x))-1\n",
    "        return transformed\n",
    "\n",
    "    def transferDerivative(self, x):\n",
    "        derivative = (1+transferFunc(x))*(1-transferFunc(x))/2\n",
    "    \n",
    "    def forwardPass(self,patterns,w_1,w_2):\n",
    "        bias = np.ones(len(patterns),dtype=int)\n",
    "        X = np.column_stack(patterns,bias)\n",
    "        \n",
    "        h_in = np.dot(w_1,X) #hin = w_1*[patterns + bias]\n",
    "        h_out = transferFunc(h_in) #hout = [transferFunc(hin)]\n",
    "        \n",
    "        o_in = np.dot(w_2,h_out) #oin = w_2 * hout\n",
    "        o_out = transferFunc(o_in) #out = transferFunc(oin)\n",
    "    \n",
    "    def backPropagation(self):\n",
    "        delta_o = (out-targets)*transferDerivative(out)\n",
    "        delta_h = np.dot(v,delta_o)*transferDerivative(h_out)\n",
    "        #need to access hidden nodes\n",
    "        delta_h = delta_h[:,nr_hidden_nodes]\n",
    "        \n",
    "    def updateWeights(self):\n",
    "        dw=0\n",
    "        alpha=0.9\n",
    "        \n",
    "        dw = (dw*alpha) - np.dot(delta_o \n",
    "        \n",
    "    def train(self, X,y,):\n",
    "        pass\n",
    "    \n",
    "        \n",
    "    def evualuate(self):\n",
    "        pass"
   ]
  },
  {
   "cell_type": "code",
   "execution_count": null,
   "metadata": {
    "collapsed": true
   },
   "outputs": [],
   "source": []
  }
 ],
 "metadata": {
  "kernelspec": {
   "display_name": "Python 3",
   "language": "python",
   "name": "python3"
  },
  "language_info": {
   "codemirror_mode": {
    "name": "ipython",
    "version": 3
   },
   "file_extension": ".py",
   "mimetype": "text/x-python",
   "name": "python",
   "nbconvert_exporter": "python",
   "pygments_lexer": "ipython3",
   "version": "3.6.0"
  }
 },
 "nbformat": 4,
 "nbformat_minor": 2
}
