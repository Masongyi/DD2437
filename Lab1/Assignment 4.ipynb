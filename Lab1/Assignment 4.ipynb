{
 "cells": [
  {
   "cell_type": "code",
   "execution_count": 231,
   "metadata": {},
   "outputs": [],
   "source": [
    "import math\n",
    "import numpy as np\n",
    "import matplotlib.pyplot as plt\n",
    "np.random.seed(42)\n",
    "\n",
    "from keras.models import Sequential\n",
    "from keras.layers import Dense, Activation\n",
    "from keras.regularizers import l2\n",
    "from keras.callbacks import EarlyStopping\n",
    "\n",
    "\n",
    "x = np.empty(1505)\n",
    "y = np.empty(1505)\n",
    "\n",
    "x[0]=1.5\n",
    "y[0]=0\n",
    "\n",
    "for i in range(1500-1):\n",
    "    if i<25:\n",
    "        x[i+1] = x[i] - 0.1*x[i]\n",
    "\n",
    "    else:\n",
    "        x[i+1] = x[i] + ((0.2*x[i-25])/(1+pow(x[i-25],10))) - 0.1*x[i]\n",
    "    y[i+1]=i\n",
    "\n",
    "\n",
    "#plt.plot(y,x,'-')\n",
    "#plt.show()  "
   ]
  },
  {
   "cell_type": "code",
   "execution_count": 232,
   "metadata": {
    "scrolled": true
   },
   "outputs": [
    {
     "name": "stdout",
     "output_type": "stream",
     "text": [
      "(200, 5)\n"
     ]
    }
   ],
   "source": [
    "inp=[]\n",
    "out=[]\n",
    "\n",
    "for i in range(300,1500):\n",
    "    inp.append([x[i-20], x[i-15], x[i-10], x[i-5], x[i]])\n",
    "    out.append(x[i+5])\n",
    "    \n",
    "#print(len(inp)) -> 1200\n",
    "\n",
    "train_X = np.array(inp[:800])\n",
    "train_y = np.array(out[:800])\n",
    "\n",
    "val_X = np.array(inp[800:1000])\n",
    "val_y = np.array(out[800:1000])\n",
    "\n",
    "test_X = np.array(inp[1000:])\n",
    "test_y = np.array(out[1000:])\n",
    "\n",
    "print(test_X.shape)"
   ]
  },
  {
   "cell_type": "code",
   "execution_count": 233,
   "metadata": {
    "scrolled": false
   },
   "outputs": [
    {
     "data": {
      "image/png": "[encoded data removed]",
      "text/plain": [
       "<matplotlib.figure.Figure at 0x12ea3d710>"
      ]
     },
     "metadata": {},
     "output_type": "display_data"
    },
    {
     "name": "stdout",
     "output_type": "stream",
     "text": [
      "Mean square error:  0.0381021108468\n"
     ]
    }
   ],
   "source": [
    "from sklearn.metrics import mean_squared_error\n",
    "\n",
    "def neural_network(num_nodes,reg_cons,batch_size):\n",
    "\n",
    "    model = Sequential()\n",
    "    model.add(Dense(num_nodes,input_dim=5, kernel_regularizer=l2(reg_cons), activation='relu'))\n",
    "    #model.add(Dense(4, kernel_regularizer=l2(reg_cons), activation='relu'))\n",
    "    model.add(Dense(1, activation='sigmoid'))\n",
    "    model.compile(loss='mean_squared_error', optimizer='sgd', metrics=['mae'])\n",
    "    earlystopping = EarlyStopping(monitor='val_loss', min_delta=0, patience=3, verbose=0, mode='auto')\n",
    "    model.fit(train_X, train_y, epochs=100, batch_size=batch_size, validation_data=(val_X, val_y),verbose=0, callbacks=[earlystopping], shuffle=False)\n",
    "    #score = model.evaluate(test_X, test_y, batch_size=1)\n",
    "    \n",
    "    predictions = np.array(model.predict(test_X))\n",
    "    plt.plot(y[1300:1500],predictions,'-')\n",
    "    plt.plot(y[1300:1500],x[1300:1500],'-')\n",
    "    plt.show()\n",
    "    \n",
    "    ## Större värde på konstanten reg_cons gör att inlärningen blir mer generell och man tar mindre hänsyn till extremerna\n",
    "    ## Batch size tycks också påverka hur generell inlärningen blir. Varför?\n",
    "    ## Num nodes får labbas fram för bäst resultat :) \n",
    "    \n",
    "    \n",
    "    mse = mean_squared_error(predictions, x[1300:1500])\n",
    "    print(\"Mean square error: \", mse)\n",
    "        \n",
    "\n",
    "neural_network(num_nodes=8, reg_cons=0.00001 , batch_size=32)  \n"
   ]
  },
  {
   "cell_type": "code",
   "execution_count": 234,
   "metadata": {},
   "outputs": [],
   "source": [
    "def compare_configs():\n",
    "        \n",
    "    for i in range(8):\n",
    "        #print(\"Reg 0.01 Nodes: \", i+1,  neural_network(num_nodes=i+1, reg_cons=0.01, batch_size=150))\n",
    "        print(\"Reg 0.01 Nodes: \", i+1,  neural_network(num_nodes=i+1, reg_cons=0.01, batch_size=150))\n",
    "        #print(\"Reg 1 Nodes: \", i+1,  neural_network(num_nodes=i+1, reg_cons=1, batch_size=150))\n",
    "        \n",
    "    print(\" \")\n",
    "    \n",
    "    for i in range(8):\n",
    "        #print(\"Reg 0.01 Nodes: \", i+1,  neural_network(num_nodes=i+1, reg_cons=0.01, batch_size=150))\n",
    "        print(\"Reg 0.1 Nodes: \", i+1,  neural_network(num_nodes=i+1, reg_cons=0.1, batch_size=150))\n",
    "        \n",
    "    print(\" \")\n",
    "        \n",
    "    for i in range(8):\n",
    "        #print(\"Reg 0.01 Nodes: \", i+1,  neural_network(num_nodes=i+1, reg_cons=0.01, batch_size=150))\n",
    "        print(\"Reg 1 Nodes: \", i+1,  neural_network(num_nodes=i+1, reg_cons=1, batch_size=150))\n"
   ]
  },
  {
   "cell_type": "code",
   "execution_count": null,
   "metadata": {},
   "outputs": [],
   "source": []
  },
  {
   "cell_type": "code",
   "execution_count": null,
   "metadata": {},
   "outputs": [],
   "source": []
  }
 ],
 "metadata": {
  "kernelspec": {
   "display_name": "Python 3",
   "language": "python",
   "name": "python3"
  },
  "language_info": {
   "codemirror_mode": {
    "name": "ipython",
    "version": 3
   },
   "file_extension": ".py",
   "mimetype": "text/x-python",
   "name": "python",
   "nbconvert_exporter": "python",
   "pygments_lexer": "ipython3",
   "version": "3.6.1"
  }
 },
 "nbformat": 4,
 "nbformat_minor": 2
}
