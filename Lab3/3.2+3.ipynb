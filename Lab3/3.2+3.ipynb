{
 "cells": [
  {
   "cell_type": "code",
   "execution_count": 118,
   "metadata": {},
   "outputs": [],
   "source": [
    "import numpy as np\n",
    "from matplotlib import pyplot as plt\n",
    "\n",
    "\n",
    "data = np.loadtxt('./pict.dat',delimiter=\",\", dtype=int).reshape(-1,1024)\n",
    "\n",
    "\n",
    "def init_weights(patterns):\n",
    "    dim = patterns.shape[1]\n",
    "    w=np.zeros((dim,dim))\n",
    "    \n",
    "    for i in range(dim):\n",
    "        for j in range(dim):\n",
    "            s = 0\n",
    "            for pattern in patterns:\n",
    "                s += pattern[i]*pattern[j]\n",
    "            w[i][j]=(1/(patterns.size)) * s\n",
    "    return w\n",
    "\n",
    "def calc_energy(pattern, w):\n",
    "    dim = pattern.size\n",
    "    energy=0\n",
    "    \n",
    "    enrg = np.multiply(w, np.multiply.outer(pattern, pattern.T)).sum()\n",
    "    \n",
    "    \"\"\"for i in range(dim):\n",
    "        for j in range(dim):\n",
    "            energy-= w[i][j]*pattern[i]*pattern[j]\n",
    "    \"\"\"        \n",
    "    return -enrg\n",
    "\n",
    "\n",
    "\n",
    "def recall(pattern,w):\n",
    "    dim = pattern.size\n",
    "    count = 0\n",
    "    energyLevels = []\n",
    "    \n",
    "    previousPattern = np.zeros(dim)\n",
    "    out = np.zeros(dim)\n",
    "    while True:\n",
    "        \n",
    "        for i in range(dim):\n",
    "            s = 0\n",
    "            for j in range(dim):\n",
    "                s += w[i][j]*pattern[j]\n",
    "                \n",
    "\n",
    "            if s >= 0:\n",
    "                sign=1\n",
    "            else:\n",
    "                sign=-1\n",
    "                    \n",
    "            out[i]=sign\n",
    "        \n",
    "        count += 1\n",
    "            \n",
    "        energyLevels.append(calc_energy(out,w))\n",
    "        \n",
    "        pattern = out\n",
    "        \n",
    "        #print(\"Energy: \", calc_energy(pattern,w))\n",
    "\n",
    "        \"\"\"if check_True(pattern):\n",
    "            print (\"It took:\",count,\"nr of iterations\")\n",
    "            plt.imshow(out.reshape(32,32),interpolation=\"nearest\")\n",
    "            plt.show()\n",
    "            break\n",
    "            \n",
    "        elif np.array_equal(pattern,previousPattern):\n",
    "            print(\"Local minimum found in iteration:\",count)\n",
    "            break\n",
    "        \"\"\"\n",
    "        \n",
    "        previousPattern=pattern\n",
    "        if count ==50:\n",
    "            break\n",
    "    \n",
    "    plt.plot(range(len(energyLevels)),energyLevels)\n",
    "    plt.show()\n",
    "    #print(energyLevels)\n",
    "\n",
    "def check_True(predicted_pattern):\n",
    "    solved = False\n",
    "    for i in range(patterns.shape[0]):\n",
    "        if np.array_equal(patterns[i],predicted_pattern):\n",
    "            print(\"True! It matched pattern nr:\",i)\n",
    "            solved = True\n",
    "    return solved\n",
    "        \n",
    "#print(data[0:3,:])\n",
    "\n",
    "\n",
    "                     "
   ]
  },
  {
   "cell_type": "code",
   "execution_count": 97,
   "metadata": {},
   "outputs": [
    {
     "name": "stdout",
     "output_type": "stream",
     "text": [
      "Energy:  -479.796875\n",
      "True! It matched pattern nr: 0\n",
      "It took: 1048576 nr of iterations\n"
     ]
    },
    {
     "data": {
      "image/png": "[encoded data removed]",
      "text/plain": [
       "<matplotlib.figure.Figure at 0x108757438>"
      ]
     },
     "metadata": {},
     "output_type": "display_data"
    }
   ],
   "source": [
    "w = init_weights(data[0:3,:])\n",
    "patterns = data[0:3,:]\n",
    "recall(data[0],w)\n",
    "#recall(data[10])\n",
    "#recall(data[2])"
   ]
  },
  {
   "cell_type": "code",
   "execution_count": null,
   "metadata": {},
   "outputs": [],
   "source": []
  },
  {
   "cell_type": "code",
   "execution_count": 81,
   "metadata": {},
   "outputs": [],
   "source": [
    "def random_recall(pattern,w):\n",
    "    dim = pattern.size\n",
    "    count = 0\n",
    "    previousPattern = np.zeros(dim)\n",
    "    out = np.ones(dim)\n",
    "    \n",
    "    while True: \n",
    "        i = np.random.randint(0,dim)\n",
    "        for j in range(dim):\n",
    "            s = 0 \n",
    "            s += w[i][j]*pattern[j]\n",
    "            count += 1\n",
    "\n",
    "        if s >= 0:\n",
    "            sign=1\n",
    "        else:\n",
    "            sign=-1\n",
    "                    \n",
    "        out[i]=sign\n",
    "            \n",
    "        if (count%1000) == 0:\n",
    "            print(\"Energy: \",calc_energy(out))\n",
    "            #plt.imshow(out.reshape(32,32),interpolation=\"nearest\")\n",
    "            #plt.show()\n",
    "        \n",
    "        \n",
    "        pattern[i] = out[i]\n",
    "        #print(pattern)\n",
    "        \n",
    "        #plt.imshow(pattern.reshape(32,32),interpolation=\"nearest\")\n",
    "        #plt.show()\n",
    "        \n",
    "        if check_True(pattern):\n",
    "            print (\"It took:\",count,\"nr of iterations\")\n",
    "            plt.imshow(pattern.reshape(32,32),interpolation=\"nearest\")\n",
    "            plt.show()\n",
    "            break\n",
    "        \n",
    "        previousPattern=pattern\n",
    "        \n",
    "        \n",
    "        \n",
    "        \n",
    "#patterns = data[0:3,:] #Decide on what patterns you want to match against    \n",
    "#random_recall(data[0],w)"
   ]
  },
  {
   "cell_type": "code",
   "execution_count": 98,
   "metadata": {},
   "outputs": [
    {
     "name": "stdout",
     "output_type": "stream",
     "text": [
      "-479.796875\n",
      "-455.213541667\n",
      "-487.416666667\n",
      "-138.66015625\n",
      "-57.8333333333\n"
     ]
    }
   ],
   "source": [
    "#print(calc_energy(data[0]))\n",
    "#print(calc_energy(data[1]))\n",
    "#print(calc_energy(data[2]))\n",
    "#print(calc_energy(data[9]))\n",
    "#print(calc_energy(data[10]))"
   ]
  },
  {
   "cell_type": "code",
   "execution_count": 73,
   "metadata": {},
   "outputs": [
    {
     "name": "stdout",
     "output_type": "stream",
     "text": [
      "(1024, 1024)\n"
     ]
    },
    {
     "data": {
      "image/png": "[encoded data removed]",
      "text/plain": [
       "<matplotlib.figure.Figure at 0x10875f898>"
      ]
     },
     "metadata": {},
     "output_type": "display_data"
    }
   ],
   "source": [
    "def genRandWeights(patterns):\n",
    "    dim1 = patterns.shape[1] #Just to get the size of the weight vector\n",
    "    \n",
    "    w = np.random.randn(dim1,dim1)\n",
    "    print(w.shape)\n",
    "    return w\n",
    "\n",
    "\n",
    "def genStartingState(w):\n",
    "    dim=1024\n",
    "    out = np.ones(dim)\n",
    "    for i in range(dim):\n",
    "        s = 0\n",
    "        for j in range(dim):\n",
    "            s += w[i][j]*out[j]\n",
    "\n",
    "        if s >= 0:\n",
    "            sign=1\n",
    "        else:\n",
    "            sign=-1\n",
    "\n",
    "        out[i]=sign\n",
    "    \n",
    "    plt.imshow(out.reshape(32,32),interpolation=\"nearest\")\n",
    "    plt.show()\n",
    "    \n",
    "    \n",
    "w = genRandWeights(patterns[0:3,:])\n",
    "genStartingState(w)\n",
    "#recall(data[0],w)"
   ]
  },
  {
   "cell_type": "code",
   "execution_count": 119,
   "metadata": {},
   "outputs": [
    {
     "name": "stdout",
     "output_type": "stream",
     "text": [
      "(1024, 1024)\n"
     ]
    },
    {
     "data": {
      "image/png": "[encoded data removed]",
      "text/plain": [
       "<matplotlib.figure.Figure at 0x10656e3c8>"
      ]
     },
     "metadata": {},
     "output_type": "display_data"
    },
    {
     "data": {
      "image/png": "[encoded data removed]",
      "text/plain": [
       "<matplotlib.figure.Figure at 0x10803b4e0>"
      ]
     },
     "metadata": {},
     "output_type": "display_data"
    }
   ],
   "source": [
    "randW = genRandWeights(patterns[0:3,:])\n",
    "symW = np.multiply(0.5,np.add(randW,randW.T))\n",
    "#np.fill_diagonal(symW,0)\n",
    "\n",
    "recall(data[0],symW)\n",
    "recall(data[0],randW)\n",
    "#random_recall(data[0], symW)"
   ]
  },
  {
   "cell_type": "code",
   "execution_count": null,
   "metadata": {},
   "outputs": [],
   "source": []
  }
 ],
 "metadata": {
  "kernelspec": {
   "display_name": "Python 3",
   "language": "python",
   "name": "python3"
  },
  "language_info": {
   "codemirror_mode": {
    "name": "ipython",
    "version": 3
   },
   "file_extension": ".py",
   "mimetype": "text/x-python",
   "name": "python",
   "nbconvert_exporter": "python",
   "pygments_lexer": "ipython3",
   "version": "3.6.1"
  }
 },
 "nbformat": 4,
 "nbformat_minor": 2
}
