{
 "cells": [
  {
   "cell_type": "code",
   "execution_count": 1,
   "metadata": {
    "collapsed": true
   },
   "outputs": [],
   "source": [
    "import numpy as np"
   ]
  },
  {
   "cell_type": "code",
   "execution_count": 7,
   "metadata": {
    "collapsed": false
   },
   "outputs": [
    {
     "name": "stdout",
     "output_type": "stream",
     "text": [
      "(2, 1024)\n"
     ]
    }
   ],
   "source": [
    "def genRandVector(dim=512):\n",
    "    randVector = np.concatenate([np.ones(dim),-1*np.ones(dim)])\n",
    "    np.random.shuffle(randVector)\n",
    "    #print(randVector)\n",
    "    return randVector\n",
    "\n",
    "patterns = np.array([genRandVector(),genRandVector()])\n",
    "print(patterns.shape)"
   ]
  },
  {
   "cell_type": "code",
   "execution_count": 21,
   "metadata": {
    "collapsed": false
   },
   "outputs": [
    {
     "name": "stdout",
     "output_type": "stream",
     "text": [
      "Orginal [[ 0.00097656  0.          0.         ..., -0.00097656  0.         -0.00097656]\n",
      " [ 0.          0.00097656 -0.00097656 ...,  0.          0.00097656  0.        ]\n",
      " [ 0.         -0.00097656  0.00097656 ...,  0.         -0.00097656  0.        ]\n",
      " ..., \n",
      " [-0.00097656  0.          0.         ...,  0.00097656  0.          0.00097656]\n",
      " [ 0.          0.00097656 -0.00097656 ...,  0.          0.00097656  0.        ]\n",
      " [-0.00097656  0.          0.         ...,  0.00097656  0.          0.00097656]]\n"
     ]
    }
   ],
   "source": [
    "dim = patterns.shape[1]\n",
    "w=np.zeros((dim,dim))\n",
    "      \n",
    "for i in range(dim):\n",
    "    for j in range(dim):\n",
    "        s = 0\n",
    "        for pattern in patterns:\n",
    "            s += pattern[i]*pattern[j]\n",
    "        w[i][j]=(1/(patterns.size)) * s\n",
    "\n",
    "print(\"Orginal\",w)"
   ]
  },
  {
   "cell_type": "code",
   "execution_count": 15,
   "metadata": {
    "collapsed": false
   },
   "outputs": [
    {
     "name": "stdout",
     "output_type": "stream",
     "text": [
      "[[ 1.  1.  1. ...,  1.  1.  1.]\n",
      " [ 1.  1.  1. ...,  1.  1.  1.]]\n",
      "2.0\n"
     ]
    }
   ],
   "source": [
    "\n",
    "\n",
    "\n",
    "for i in range(patterns.shape[0]):\n",
    "    w_tmp=np.multiply(patterns,patterns)\n",
    "print(w_tmp)\n",
    "w_test=1/patterns.shape[1]*np.sum(w_tmp)\n",
    "    \n",
    "print(w_test)"
   ]
  },
  {
   "cell_type": "code",
   "execution_count": 18,
   "metadata": {
    "collapsed": false
   },
   "outputs": [
    {
     "name": "stdout",
     "output_type": "stream",
     "text": [
      "[1 4 9]\n"
     ]
    }
   ],
   "source": [
    "a=np.array([1,2,3])\n",
    "b=np.array([1,2,3]).T\n",
    "print(np.multiply(a,b))"
   ]
  },
  {
   "cell_type": "code",
   "execution_count": null,
   "metadata": {
    "collapsed": true
   },
   "outputs": [],
   "source": []
  }
 ],
 "metadata": {
  "kernelspec": {
   "display_name": "Python 3",
   "language": "python",
   "name": "python3"
  },
  "language_info": {
   "codemirror_mode": {
    "name": "ipython",
    "version": 3
   },
   "file_extension": ".py",
   "mimetype": "text/x-python",
   "name": "python",
   "nbconvert_exporter": "python",
   "pygments_lexer": "ipython3",
   "version": "3.6.0"
  }
 },
 "nbformat": 4,
 "nbformat_minor": 2
}
