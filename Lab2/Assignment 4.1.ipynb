{
 "cells": [
  {
   "cell_type": "code",
   "execution_count": 31,
   "metadata": {
    "collapsed": true
   },
   "outputs": [],
   "source": [
    "def init_weights():\n",
    "    np.random.seed(42)\n",
    "    weights = np.random.rand(100,84)\n",
    "    return weights"
   ]
  },
  {
   "cell_type": "code",
   "execution_count": 32,
   "metadata": {
    "collapsed": false
   },
   "outputs": [
    {
     "name": "stdout",
     "output_type": "stream",
     "text": [
      "(32, 84)\n",
      "(32,)\n"
     ]
    }
   ],
   "source": [
    "import numpy as np\n",
    "myarray = np.loadtxt('./data_lab2/animals.dat',delimiter=\",\",dtype=int)\n",
    "animal_names = np.loadtxt('./data_lab2/animalnames.txt',dtype=str)\n",
    "\n",
    "#indata = 32x84\n",
    "indata = np.reshape(myarray, (-1, 84))\n",
    "#weights = 100x84\n",
    "weights = init_weights()\n",
    "\n",
    "print (indata.shape)\n",
    "print(animal_names.shape)"
   ]
  },
  {
   "cell_type": "code",
   "execution_count": 63,
   "metadata": {
    "collapsed": false
   },
   "outputs": [
    {
     "name": "stdout",
     "output_type": "stream",
     "text": [
      "[[1 'moskito']\n",
      " [4 'dragonfly']\n",
      " [6 'butterfly']\n",
      " [9 'grasshopper']\n",
      " [11 'beetle']\n",
      " [13 'housefly']\n",
      " [17 'spider']\n",
      " [24 'pelican']\n",
      " [26 'penguin']\n",
      " [28 'ostrich']\n",
      " [30 'duck']\n",
      " [35 'seaturtle']\n",
      " [37 'crocodile']\n",
      " [42 'frog']\n",
      " [46 'walrus']\n",
      " [49 'bear']\n",
      " [53 'dog']\n",
      " [56 'hyena']\n",
      " [59 'skunk']\n",
      " [63 'rat']\n",
      " [65 'rabbit']\n",
      " [69 'bat']\n",
      " [72 'ape']\n",
      " [74 'kangaroo']\n",
      " [76 'elephant']\n",
      " [81 'cat']\n",
      " [83 'lion']\n",
      " [86 'horse']\n",
      " [88 'camel']\n",
      " [91 'giraffe']\n",
      " [94 'pig']\n",
      " [97 'antelop']]\n"
     ]
    }
   ],
   "source": [
    "\n",
    "    \n",
    "#Calculates similarity between a pattern (animal) and weights, choses the weightnode with smallest distance\n",
    "def similarity(indata):\n",
    "    winner = 1000\n",
    "    winnerNode=0\n",
    "    for i in range(weights.shape[0]):\n",
    "        sub = np.subtract(indata,weights[i])\n",
    "        sim = np.dot(sub.T,sub)\n",
    "        if sim < winner:\n",
    "            winner = sim\n",
    "            winnerNode=i\n",
    "    return winnerNode\n",
    "            \n",
    "#Takes the index of the winner node, uses the window to call update weight function for\n",
    "#appropriate neighbours\n",
    "def getNeighbours(size, winner, ind):\n",
    "    left = []\n",
    "    right = []\n",
    "    \n",
    "    for i in range(size-1):\n",
    "        tmp = (winner-i)%100\n",
    "        left.append(tmp)\n",
    "        \n",
    "    for i in range(size):\n",
    "        tmp = (winner+i)%100\n",
    "        right.append(tmp)\n",
    "        \n",
    "    left = np.array(left)\n",
    "    right = np.array(right)\n",
    "         \n",
    "    updateWeights(left, ind)\n",
    "    updateWeights(right, ind)\n",
    "    \n",
    "#Updates weight W[i]\n",
    "def updateWeights(weightIndex, ind, eta = 0.2):\n",
    "    for i in np.nditer(weightIndex):\n",
    "        weights[i] = weights[i] + eta*(np.subtract(ind,weights[i]))\n",
    "\n",
    "#Trains a SOM\n",
    "def trainSOM(epochs=20):\n",
    "    size = 25 #Size of neighbourhood\n",
    "    #For each pattern in indata\n",
    "    for epoch in range(epochs): #20 is standard\n",
    "        for i in range(indata.shape[0]):\n",
    "            winnerNode=similarity(indata[i]) #Find best node\n",
    "            getNeighbours(size, winnerNode, indata[i]) #Get list of neighbours with winnerNode in center\n",
    "        \n",
    "        #print(\"Size:\",size)\n",
    "        #Update size of neighbourhood\n",
    "        if size>5:\n",
    "            size-=2\n",
    "        elif size==2:\n",
    "            pass\n",
    "        else:\n",
    "            size-=1\n",
    "    \n",
    "#Creates a SOM based on training\n",
    "def predictSOM():\n",
    "    pos=[]\n",
    "    #Loop through animals\n",
    "    for i in range(indata.shape[0]):\n",
    "            winnerNode=similarity(indata[i]) #Find best node\n",
    "            pos.append([winnerNode,animal_names[i]])\n",
    "        \n",
    "    pos = np.array(pos,dtype=object)\n",
    "    print(pos[pos[:,0].argsort()])\n",
    "    \n",
    "        \n",
    "trainSOM()       \n",
    "predictSOM()\n",
    "    \n",
    "#Visualize this later      "
   ]
  },
  {
   "cell_type": "code",
   "execution_count": null,
   "metadata": {
    "collapsed": true
   },
   "outputs": [],
   "source": []
  }
 ],
 "metadata": {
  "kernelspec": {
   "display_name": "Python 3",
   "language": "python",
   "name": "python3"
  },
  "language_info": {
   "codemirror_mode": {
    "name": "ipython",
    "version": 3
   },
   "file_extension": ".py",
   "mimetype": "text/x-python",
   "name": "python",
   "nbconvert_exporter": "python",
   "pygments_lexer": "ipython3",
   "version": "3.6.0"
  }
 },
 "nbformat": 4,
 "nbformat_minor": 2
}
