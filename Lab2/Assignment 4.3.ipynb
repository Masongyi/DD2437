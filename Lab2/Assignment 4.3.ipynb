{
 "cells": [
  {
   "cell_type": "code",
   "execution_count": 8,
   "metadata": {
    "collapsed": true
   },
   "outputs": [],
   "source": [
    "import numpy as np\n",
    "myarray = np.loadtxt('./data_lab2/votes.dat',delimiter=\",\",dtype=float)\n",
    "\n",
    "\n",
    "#indata = 32x84\n",
    "indata = np.reshape(myarray, (-1, 31))\n",
    "\n",
    "\n",
    "def init_weights(n,m):\n",
    "    np.random.seed(42)\n",
    "    weights = np.random.rand(n,m)\n",
    "    return weights\n",
    "\n",
    "weights = init_weights(100,31)\n",
    "\n",
    "\n",
    "def similarity(indata):\n",
    "    winner = 1000\n",
    "    winnerNode=0\n",
    "    for i in range(weights.shape[0]):\n",
    "        sub = np.subtract(indata,weights[i])\n",
    "        sim = np.dot(sub.T,sub)\n",
    "        if sim < winner:\n",
    "            winner = sim\n",
    "            winnerNode=i\n",
    "    return winnerNode\n",
    "\n",
    "def getNeighbours(size, winner, ind): \n",
    "    indexes = []\n",
    "    if(size>0):\n",
    "        for i in range(winner-size,winner+size):\n",
    "            tmp = i%10\n",
    "            indexes.append(tmp)\n",
    "    else:\n",
    "        indexes.append(winner)\n",
    "        \n",
    "    indexes = np.array(indexes)\n",
    "    updateWeights(indexes, ind)\n",
    "\n",
    "#Updates weight W[i]\n",
    "def updateWeights(weightIndex, ind, eta = 0.2):\n",
    "    for i in np.nditer(weightIndex):\n",
    "        weights[i] = weights[i] + eta*(np.subtract(ind,weights[i]))\n",
    "\n",
    "#Trains a SOM\n",
    "def trainSOM(epochs=20):\n",
    "    size = 20 #Size of neighbourhood\n",
    "    #For each pattern in indata\n",
    "    for epoch in range(epochs): #20 is standard\n",
    "        for i in range(indata.shape[0]):\n",
    "            winnerNode=similarity(indata[i]) #Find best node\n",
    "            getNeighbours(size, winnerNode, indata[i]) #Get list of neighbours with winnerNode in center\n",
    "        \n",
    "        #print(\"Size:\",size)\n",
    "        #Update size of neighbourhood\n",
    "        if size>5:\n",
    "            size-=2\n",
    "        elif size==2:\n",
    "            pass\n",
    "        else:\n",
    "            size-=1\n",
    "\n",
    "trainSOM()"
   ]
  },
  {
   "cell_type": "code",
   "execution_count": null,
   "metadata": {
    "collapsed": true
   },
   "outputs": [],
   "source": []
  }
 ],
 "metadata": {
  "kernelspec": {
   "display_name": "Python 3",
   "language": "python",
   "name": "python3"
  },
  "language_info": {
   "codemirror_mode": {
    "name": "ipython",
    "version": 3
   },
   "file_extension": ".py",
   "mimetype": "text/x-python",
   "name": "python",
   "nbconvert_exporter": "python",
   "pygments_lexer": "ipython3",
   "version": "3.6.0"
  }
 },
 "nbformat": 4,
 "nbformat_minor": 2
}
