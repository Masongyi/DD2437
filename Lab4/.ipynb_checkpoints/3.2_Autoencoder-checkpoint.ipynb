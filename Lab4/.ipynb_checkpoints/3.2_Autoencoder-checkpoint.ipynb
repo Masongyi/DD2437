{
 "cells": [
  {
   "cell_type": "code",
   "execution_count": 116,
   "metadata": {
    "collapsed": false
   },
   "outputs": [],
   "source": [
    "import numpy as np\n",
    "import pandas as pd\n",
    "import matplotlib.pyplot as plt\n",
    "from sklearn.linear_model import LogisticRegression\n",
    "import sknn.ae as sa\n",
    "from sklearn import metrics\n",
    "\n",
    "from keras.layers import Input, Dense\n",
    "from keras.models import Model\n",
    "from sklearn.pipeline import Pipeline\n",
    "from keras.wrappers.scikit_learn import KerasClassifier\n",
    "from keras.wrappers.scikit_learn import KerasRegressor\n",
    "from keras.models import Sequential\n",
    "from keras.utils import to_categorical"
   ]
  },
  {
   "cell_type": "code",
   "execution_count": 117,
   "metadata": {
    "collapsed": false
   },
   "outputs": [],
   "source": [
    "X_train = pd.read_csv(\"MNIST_data/bindigit_trn.csv\",header=None).as_matrix()\n",
    "y_train = pd.read_csv(\"MNIST_data/targetdigit_trn.csv\",header=None,names=[\"Label\"]).as_matrix()\n",
    "\n",
    "X_test = pd.read_csv(\"MNIST_data/bindigit_tst.csv\",header=None).as_matrix()\n",
    "y_test = pd.read_csv(\"MNIST_data/targetdigit_tst.csv\",header=None,names=[\"Label\"]).as_matrix()"
   ]
  },
  {
   "cell_type": "code",
   "execution_count": 118,
   "metadata": {
    "collapsed": false
   },
   "outputs": [
    {
     "data": {
      "text/plain": [
       "(8000, 784)"
      ]
     },
     "execution_count": 118,
     "metadata": {},
     "output_type": "execute_result"
    }
   ],
   "source": [
    "'''\n",
    "encoded = sa.Layer(activation='Rectifier')\n",
    "decoded = sa.Layer(activation='Sigmoid')\n",
    "layers = []\n",
    "layers.append(layer)\n",
    "'''\n",
    "X_train.shape"
   ]
  },
  {
   "cell_type": "code",
   "execution_count": 119,
   "metadata": {
    "collapsed": false
   },
   "outputs": [],
   "source": [
    "#autoencoder = sa.AutoEncoder(layers)"
   ]
  },
  {
   "cell_type": "code",
   "execution_count": null,
   "metadata": {
    "collapsed": false
   },
   "outputs": [],
   "source": []
  },
  {
   "cell_type": "code",
   "execution_count": 120,
   "metadata": {
    "collapsed": false
   },
   "outputs": [
    {
     "data": {
      "text/plain": [
       "\"\\ninput_img = Input(shape=(784,))\\nencoded = Dense(150, activation='relu')(input_img) #1st hidden layer\\nencoded = Dense(50, activation='relu')(encoded) #2nd hidden layer\\n\\ndecoded = Dense(150, activation='relu')(encoded)\\ndecoded = Dense(784, activation='sigmoid')(encoded)\\n\\nautoencoder = Model(input_img,encoded)\\n\\nautoencoder.compile(optimizer='adadelta', loss='mean_squared_error')\\n\""
      ]
     },
     "execution_count": 120,
     "metadata": {},
     "output_type": "execute_result"
    }
   ],
   "source": [
    "'''\n",
    "input_img = Input(shape=(784,))\n",
    "encoded = Dense(150, activation='relu')(input_img) #1st hidden layer\n",
    "encoded = Dense(50, activation='relu')(encoded) #2nd hidden layer\n",
    "\n",
    "decoded = Dense(150, activation='relu')(encoded)\n",
    "decoded = Dense(784, activation='sigmoid')(encoded)\n",
    "\n",
    "autoencoder = Model(input_img,encoded)\n",
    "\n",
    "autoencoder.compile(optimizer='adadelta', loss='mean_squared_error')\n",
    "'''"
   ]
  },
  {
   "cell_type": "code",
   "execution_count": 121,
   "metadata": {
    "collapsed": false
   },
   "outputs": [
    {
     "data": {
      "text/plain": [
       "'\\nautoencoder.fit(X_train,X_train,\\n               epochs=20,\\n               batch_size=64,\\n               shuffle=True,\\n               verbose=0,\\n                validation_data=(X_test, X_test))\\n                '"
      ]
     },
     "execution_count": 121,
     "metadata": {},
     "output_type": "execute_result"
    }
   ],
   "source": [
    "'''\n",
    "autoencoder.fit(X_train,X_train,\n",
    "               epochs=20,\n",
    "               batch_size=64,\n",
    "               shuffle=True,\n",
    "               verbose=0,\n",
    "                validation_data=(X_test, X_test))\n",
    "                '''"
   ]
  },
  {
   "cell_type": "code",
   "execution_count": null,
   "metadata": {
    "collapsed": true
   },
   "outputs": [],
   "source": []
  },
  {
   "cell_type": "code",
   "execution_count": 122,
   "metadata": {
    "collapsed": false
   },
   "outputs": [
    {
     "data": {
      "text/plain": [
       "'\\nencoder = Model(input_img,encoded)\\npred = encoder.predict(X_train)\\n'"
      ]
     },
     "execution_count": 122,
     "metadata": {},
     "output_type": "execute_result"
    }
   ],
   "source": [
    "'''\n",
    "encoder = Model(input_img,encoded)\n",
    "pred = encoder.predict(X_train)\n",
    "'''"
   ]
  },
  {
   "cell_type": "code",
   "execution_count": 123,
   "metadata": {
    "collapsed": false
   },
   "outputs": [
    {
     "data": {
      "text/plain": [
       "'\\nlogistic = LogisticRegression(C=100,verbose=True)\\nlogistic.fit(pred,y_train)\\n'"
      ]
     },
     "execution_count": 123,
     "metadata": {},
     "output_type": "execute_result"
    }
   ],
   "source": [
    "'''\n",
    "logistic = LogisticRegression(C=100,verbose=True)\n",
    "logistic.fit(pred,y_train)\n",
    "'''"
   ]
  },
  {
   "cell_type": "code",
   "execution_count": 124,
   "metadata": {
    "collapsed": false
   },
   "outputs": [
    {
     "data": {
      "text/plain": [
       "'\\npred_encoded = encoder.predict(X_test)\\npredicted = logistic.predict(pred_encoded)\\n'"
      ]
     },
     "execution_count": 124,
     "metadata": {},
     "output_type": "execute_result"
    }
   ],
   "source": [
    "'''\n",
    "pred_encoded = encoder.predict(X_test)\n",
    "predicted = logistic.predict(pred_encoded)\n",
    "'''"
   ]
  },
  {
   "cell_type": "code",
   "execution_count": null,
   "metadata": {
    "collapsed": false
   },
   "outputs": [],
   "source": []
  },
  {
   "cell_type": "code",
   "execution_count": 125,
   "metadata": {
    "collapsed": false
   },
   "outputs": [
    {
     "data": {
      "text/plain": [
       "'\\nprint(\"Logistic regression using Autoencoder features:\\n%s\\n\" %\\n      metrics.classification_report(y_test,predicted))\\n\\nprint(\"Accuracy:\",metrics.accuracy_score(y_test,predicted))\\nprint(\"\\n\")\\n'"
      ]
     },
     "execution_count": 125,
     "metadata": {},
     "output_type": "execute_result"
    }
   ],
   "source": [
    "'''\n",
    "print(\"Logistic regression using Autoencoder features:\\n%s\\n\" %\n",
    "      metrics.classification_report(y_test,predicted))\n",
    "\n",
    "print(\"Accuracy:\",metrics.accuracy_score(y_test,predicted))\n",
    "print(\"\\n\")\n",
    "'''"
   ]
  },
  {
   "cell_type": "markdown",
   "metadata": {
    "collapsed": false
   },
   "source": [
    "## Alternative version with perceptron classification"
   ]
  },
  {
   "cell_type": "code",
   "execution_count": 126,
   "metadata": {
    "collapsed": true
   },
   "outputs": [],
   "source": [
    "input_img = Input(shape=(784,))\n",
    "encoded1 = Dense(150, activation='relu')(input_img) #1st hidden layer\n",
    "#encoded2 = Dense(50, activation='relu')(encoded1) #2nd hidden layer\n",
    "#decoded1 = Dense(150, activation='relu')(encoded2)\n",
    "decoded2 = Dense(784, activation='sigmoid')(encoded1)\n",
    "\n",
    "autoencoder = Model(input_img,decoded2)\n",
    "\n",
    "autoencoder.compile(optimizer='adadelta', loss='mean_squared_error')"
   ]
  },
  {
   "cell_type": "code",
   "execution_count": 127,
   "metadata": {
    "collapsed": false
   },
   "outputs": [
    {
     "data": {
      "text/plain": [
       "<keras.callbacks.History at 0x124831b00>"
      ]
     },
     "execution_count": 127,
     "metadata": {},
     "output_type": "execute_result"
    }
   ],
   "source": [
    "autoencoder.fit(X_train,X_train,\n",
    "               epochs=20,\n",
    "               batch_size=64,\n",
    "               shuffle=True,\n",
    "               verbose=0,\n",
    "                validation_data=(X_test, X_test))"
   ]
  },
  {
   "cell_type": "code",
   "execution_count": 128,
   "metadata": {
    "collapsed": false
   },
   "outputs": [],
   "source": [
    "hidden = Dense(50, activation='relu')(encoded1)\n",
    "out = Dense(10, activation='sigmoid')(hidden)\n",
    "classifier = Model(input_img,out)\n",
    "classifier.compile(optimizer='adadelta', loss='mean_squared_error')"
   ]
  },
  {
   "cell_type": "code",
   "execution_count": 129,
   "metadata": {
    "collapsed": false
   },
   "outputs": [
    {
     "data": {
      "text/plain": [
       "<keras.callbacks.History at 0x124831c50>"
      ]
     },
     "execution_count": 129,
     "metadata": {},
     "output_type": "execute_result"
    }
   ],
   "source": [
    "y_train = to_categorical(y_train, num_classes=10)\n",
    "classifier.fit(X_train,y_train,\n",
    "               epochs=50,\n",
    "               batch_size=64,\n",
    "               shuffle=True,\n",
    "               verbose=0)"
   ]
  },
  {
   "cell_type": "code",
   "execution_count": 130,
   "metadata": {
    "collapsed": true
   },
   "outputs": [],
   "source": [
    "predictions = classifier.predict(X_test)\n",
    "pred = np.argmax(predictions,axis=1)"
   ]
  },
  {
   "cell_type": "code",
   "execution_count": 131,
   "metadata": {
    "collapsed": false
   },
   "outputs": [
    {
     "name": "stdout",
     "output_type": "stream",
     "text": [
      "Classification using NN:\n",
      "             precision    recall  f1-score   support\n",
      "\n",
      "          0       0.96      0.99      0.97       196\n",
      "          1       0.97      0.97      0.97       227\n",
      "          2       0.93      0.93      0.93       206\n",
      "          3       0.96      0.85      0.90       202\n",
      "          4       0.93      0.97      0.95       196\n",
      "          5       0.86      0.91      0.89       182\n",
      "          6       0.94      0.96      0.95       191\n",
      "          7       0.95      0.93      0.94       205\n",
      "          8       0.93      0.94      0.94       194\n",
      "          9       0.95      0.94      0.94       201\n",
      "\n",
      "avg / total       0.94      0.94      0.94      2000\n",
      "\n",
      "\n",
      "Accuracy: 0.9405\n",
      "\n",
      "\n"
     ]
    }
   ],
   "source": [
    "print(\"Classification using NN:\\n%s\\n\" %\n",
    "      metrics.classification_report(y_test,pred))\n",
    "\n",
    "print(\"Accuracy:\",metrics.accuracy_score(y_test,pred))\n",
    "print(\"\\n\")"
   ]
  },
  {
   "cell_type": "code",
   "execution_count": null,
   "metadata": {
    "collapsed": true
   },
   "outputs": [],
   "source": []
  }
 ],
 "metadata": {
  "kernelspec": {
   "display_name": "Python 3",
   "language": "python",
   "name": "python3"
  },
  "language_info": {
   "codemirror_mode": {
    "name": "ipython",
    "version": 3
   },
   "file_extension": ".py",
   "mimetype": "text/x-python",
   "name": "python",
   "nbconvert_exporter": "python",
   "pygments_lexer": "ipython3",
   "version": "3.6.0"
  }
 },
 "nbformat": 4,
 "nbformat_minor": 2
}
