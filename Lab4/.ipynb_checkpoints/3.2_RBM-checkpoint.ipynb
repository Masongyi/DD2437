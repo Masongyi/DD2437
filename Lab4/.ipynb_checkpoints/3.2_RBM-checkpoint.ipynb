{
 "cells": [
  {
   "cell_type": "code",
   "execution_count": 95,
   "metadata": {
    "collapsed": true
   },
   "outputs": [],
   "source": [
    "import numpy as np\n",
    "import pandas as pd\n",
    "import matplotlib.pyplot as plt\n",
    "from sklearn.neural_network import BernoulliRBM\n",
    "\n",
    "from sklearn.pipeline import Pipeline\n",
    "from sklearn.linear_model import LogisticRegression\n",
    "from sklearn import metrics"
   ]
  },
  {
   "cell_type": "code",
   "execution_count": 96,
   "metadata": {
    "collapsed": true
   },
   "outputs": [],
   "source": [
    "X_train = pd.read_csv(\"MNIST_data/bindigit_trn.csv\",header=None,dtype=np.float32).as_matrix()\n",
    "y_train = pd.read_csv(\"MNIST_data/targetdigit_trn.csv\",header=None,names=[\"Label\"],dtype=np.float32).as_matrix()\n",
    "\n",
    "X_test = pd.read_csv(\"MNIST_data/bindigit_tst.csv\",header=None,dtype=np.float32).as_matrix()\n",
    "y_test = pd.read_csv(\"MNIST_data/targetdigit_tst.csv\",header=None,names=[\"Label\"],dtype=np.float32).as_matrix()"
   ]
  },
  {
   "cell_type": "code",
   "execution_count": 97,
   "metadata": {
    "collapsed": false
   },
   "outputs": [],
   "source": [
    "y_train = y_train.reshape(8000,)\n",
    "y_test = y_test.reshape(2000,)"
   ]
  },
  {
   "cell_type": "code",
   "execution_count": 98,
   "metadata": {
    "collapsed": false
   },
   "outputs": [],
   "source": [
    "epochs = 20\n",
    "\n",
    "rbm_layer1 = BernoulliRBM(n_components=150, learning_rate=0.01,n_iter=epochs,\n",
    "                     batch_size=64, random_state=42,verbose=True)\n",
    "\n",
    "rbm_layer2 = BernoulliRBM(n_components=100, learning_rate=0.01,n_iter=epochs,\n",
    "                     batch_size=64, random_state=42,verbose=True)\n",
    "\n",
    "rbm_layer3 = BernoulliRBM(n_components=50, learning_rate=0.01,n_iter=epochs,\n",
    "                     batch_size=64, random_state=42,verbose=True)\n",
    "\n",
    "logistic1 = LogisticRegression(C=100,verbose=True)\n",
    "logistic2 = LogisticRegression(C=100,verbose=True)\n",
    "\n",
    "#classifier = Pipeline(steps=[('rbm1', rbm_layer1),('rbm2',rbm_layer2),('rbm3',rbm_layer3),('logistic',logistic1)])\n",
    "#classifier = Pipeline(steps=[('rbm1', rbm_layer1),('rbm2',rbm_layer2),('logistic',logistic1)])\n",
    "classifier = Pipeline(steps=[('rbm1', rbm_layer1),('logistic',logistic1)])\n",
    "\n"
   ]
  },
  {
   "cell_type": "code",
   "execution_count": 99,
   "metadata": {
    "collapsed": false
   },
   "outputs": [
    {
     "name": "stdout",
     "output_type": "stream",
     "text": [
      "[LibLinear]"
     ]
    },
    {
     "data": {
      "text/plain": [
       "LogisticRegression(C=100, class_weight=None, dual=False, fit_intercept=True,\n",
       "          intercept_scaling=1, max_iter=100, multi_class='ovr', n_jobs=1,\n",
       "          penalty='l2', random_state=None, solver='liblinear', tol=0.0001,\n",
       "          verbose=True, warm_start=False)"
      ]
     },
     "execution_count": 99,
     "metadata": {},
     "output_type": "execute_result"
    }
   ],
   "source": [
    "logistic2.fit(X_train,y_train)"
   ]
  },
  {
   "cell_type": "code",
   "execution_count": 100,
   "metadata": {
    "collapsed": false
   },
   "outputs": [
    {
     "name": "stdout",
     "output_type": "stream",
     "text": [
      "[BernoulliRBM] Iteration 1, pseudo-likelihood = -290.29, time = 0.71s\n",
      "[BernoulliRBM] Iteration 2, pseudo-likelihood = -245.07, time = 0.94s\n",
      "[BernoulliRBM] Iteration 3, pseudo-likelihood = -198.32, time = 0.92s\n",
      "[BernoulliRBM] Iteration 4, pseudo-likelihood = -183.22, time = 0.91s\n",
      "[BernoulliRBM] Iteration 5, pseudo-likelihood = -171.19, time = 0.99s\n",
      "[BernoulliRBM] Iteration 6, pseudo-likelihood = -162.72, time = 1.03s\n",
      "[BernoulliRBM] Iteration 7, pseudo-likelihood = -156.87, time = 1.00s\n",
      "[BernoulliRBM] Iteration 8, pseudo-likelihood = -152.39, time = 0.93s\n",
      "[BernoulliRBM] Iteration 9, pseudo-likelihood = -148.09, time = 0.92s\n",
      "[BernoulliRBM] Iteration 10, pseudo-likelihood = -145.17, time = 0.93s\n",
      "[BernoulliRBM] Iteration 11, pseudo-likelihood = -142.37, time = 0.92s\n",
      "[BernoulliRBM] Iteration 12, pseudo-likelihood = -139.79, time = 0.93s\n",
      "[BernoulliRBM] Iteration 13, pseudo-likelihood = -137.43, time = 0.92s\n",
      "[BernoulliRBM] Iteration 14, pseudo-likelihood = -135.00, time = 0.92s\n",
      "[BernoulliRBM] Iteration 15, pseudo-likelihood = -132.67, time = 0.93s\n",
      "[BernoulliRBM] Iteration 16, pseudo-likelihood = -130.02, time = 0.93s\n",
      "[BernoulliRBM] Iteration 17, pseudo-likelihood = -128.64, time = 0.92s\n",
      "[BernoulliRBM] Iteration 18, pseudo-likelihood = -126.69, time = 0.92s\n",
      "[BernoulliRBM] Iteration 19, pseudo-likelihood = -125.47, time = 0.93s\n",
      "[BernoulliRBM] Iteration 20, pseudo-likelihood = -124.10, time = 0.92s\n",
      "[BernoulliRBM] Iteration 21, pseudo-likelihood = -122.22, time = 0.93s\n",
      "[BernoulliRBM] Iteration 22, pseudo-likelihood = -121.29, time = 0.92s\n",
      "[BernoulliRBM] Iteration 23, pseudo-likelihood = -119.89, time = 0.92s\n",
      "[BernoulliRBM] Iteration 24, pseudo-likelihood = -119.12, time = 0.94s\n",
      "[BernoulliRBM] Iteration 25, pseudo-likelihood = -117.74, time = 0.92s\n",
      "[BernoulliRBM] Iteration 26, pseudo-likelihood = -116.81, time = 0.93s\n",
      "[BernoulliRBM] Iteration 27, pseudo-likelihood = -115.74, time = 0.92s\n",
      "[BernoulliRBM] Iteration 28, pseudo-likelihood = -114.59, time = 0.92s\n",
      "[BernoulliRBM] Iteration 29, pseudo-likelihood = -113.10, time = 0.91s\n",
      "[BernoulliRBM] Iteration 30, pseudo-likelihood = -112.23, time = 0.92s\n",
      "[BernoulliRBM] Iteration 31, pseudo-likelihood = -111.33, time = 0.93s\n",
      "[BernoulliRBM] Iteration 32, pseudo-likelihood = -110.49, time = 0.94s\n",
      "[BernoulliRBM] Iteration 33, pseudo-likelihood = -109.56, time = 0.92s\n",
      "[BernoulliRBM] Iteration 34, pseudo-likelihood = -109.02, time = 0.92s\n",
      "[BernoulliRBM] Iteration 35, pseudo-likelihood = -108.03, time = 0.93s\n",
      "[BernoulliRBM] Iteration 36, pseudo-likelihood = -107.41, time = 0.92s\n",
      "[BernoulliRBM] Iteration 37, pseudo-likelihood = -107.01, time = 0.92s\n",
      "[BernoulliRBM] Iteration 38, pseudo-likelihood = -105.83, time = 0.94s\n",
      "[BernoulliRBM] Iteration 39, pseudo-likelihood = -105.50, time = 0.94s\n",
      "[BernoulliRBM] Iteration 40, pseudo-likelihood = -104.71, time = 0.92s\n",
      "[BernoulliRBM] Iteration 41, pseudo-likelihood = -104.48, time = 0.94s\n",
      "[BernoulliRBM] Iteration 42, pseudo-likelihood = -103.44, time = 0.93s\n",
      "[BernoulliRBM] Iteration 43, pseudo-likelihood = -103.16, time = 0.92s\n",
      "[BernoulliRBM] Iteration 44, pseudo-likelihood = -102.46, time = 0.92s\n",
      "[BernoulliRBM] Iteration 45, pseudo-likelihood = -102.00, time = 1.04s\n",
      "[BernoulliRBM] Iteration 46, pseudo-likelihood = -101.71, time = 0.93s\n",
      "[BernoulliRBM] Iteration 47, pseudo-likelihood = -100.82, time = 0.94s\n",
      "[BernoulliRBM] Iteration 48, pseudo-likelihood = -100.42, time = 1.02s\n",
      "[BernoulliRBM] Iteration 49, pseudo-likelihood = -99.94, time = 0.92s\n",
      "[BernoulliRBM] Iteration 50, pseudo-likelihood = -99.44, time = 1.03s\n",
      "[LibLinear]"
     ]
    },
    {
     "data": {
      "text/plain": [
       "Pipeline(memory=None,\n",
       "     steps=[('rbm1', BernoulliRBM(batch_size=64, learning_rate=0.01, n_components=150, n_iter=50,\n",
       "       random_state=42, verbose=True)), ('logistic', LogisticRegression(C=100, class_weight=None, dual=False, fit_intercept=True,\n",
       "          intercept_scaling=1, max_iter=100, multi_class='ovr', n_jobs=1,\n",
       "          penalty='l2', random_state=None, solver='liblinear', tol=0.0001,\n",
       "          verbose=True, warm_start=False))])"
      ]
     },
     "execution_count": 100,
     "metadata": {},
     "output_type": "execute_result"
    }
   ],
   "source": [
    "classifier.fit(X_train,y_train)"
   ]
  },
  {
   "cell_type": "code",
   "execution_count": 101,
   "metadata": {
    "collapsed": false
   },
   "outputs": [
    {
     "name": "stdout",
     "output_type": "stream",
     "text": [
      "Logistic regression using RBM features:\n",
      "             precision    recall  f1-score   support\n",
      "\n",
      "        0.0       0.93      0.96      0.94       196\n",
      "        1.0       0.97      0.98      0.97       227\n",
      "        2.0       0.90      0.93      0.91       206\n",
      "        3.0       0.94      0.89      0.91       202\n",
      "        4.0       0.93      0.91      0.92       196\n",
      "        5.0       0.89      0.85      0.87       182\n",
      "        6.0       0.94      0.96      0.95       191\n",
      "        7.0       0.93      0.91      0.92       205\n",
      "        8.0       0.89      0.91      0.90       194\n",
      "        9.0       0.90      0.92      0.91       201\n",
      "\n",
      "avg / total       0.92      0.92      0.92      2000\n",
      "\n",
      "\n",
      "Accuracy: 0.9225\n",
      "\n",
      "\n",
      "Logistic regression using raw pixel features:\n",
      "             precision    recall  f1-score   support\n",
      "\n",
      "        0.0       0.94      0.95      0.94       196\n",
      "        1.0       0.94      0.96      0.95       227\n",
      "        2.0       0.84      0.82      0.83       206\n",
      "        3.0       0.85      0.80      0.82       202\n",
      "        4.0       0.88      0.89      0.89       196\n",
      "        5.0       0.80      0.74      0.77       182\n",
      "        6.0       0.90      0.89      0.89       191\n",
      "        7.0       0.89      0.84      0.87       205\n",
      "        8.0       0.77      0.85      0.81       194\n",
      "        9.0       0.82      0.89      0.85       201\n",
      "\n",
      "avg / total       0.86      0.86      0.86      2000\n",
      "\n",
      "\n",
      "Accuracy: 0.864\n"
     ]
    }
   ],
   "source": [
    "print(\"Logistic regression using RBM features:\\n%s\\n\" % (\n",
    "    metrics.classification_report(\n",
    "        y_test,\n",
    "        classifier.predict(X_test))))\n",
    "\n",
    "print(\"Accuracy:\",metrics.accuracy_score(y_test,classifier.predict(X_test)))\n",
    "print(\"\\n\")\n",
    "print(\"Logistic regression using raw pixel features:\\n%s\\n\" % (\n",
    "    metrics.classification_report(\n",
    "        y_test,\n",
    "        logistic2.predict(X_test))))\n",
    "print(\"Accuracy:\",metrics.accuracy_score(y_test,logistic2.predict(X_test)))"
   ]
  },
  {
   "cell_type": "code",
   "execution_count": null,
   "metadata": {
    "collapsed": true
   },
   "outputs": [],
   "source": []
  }
 ],
 "metadata": {
  "kernelspec": {
   "display_name": "Python 3",
   "language": "python",
   "name": "python3"
  },
  "language_info": {
   "codemirror_mode": {
    "name": "ipython",
    "version": 3
   },
   "file_extension": ".py",
   "mimetype": "text/x-python",
   "name": "python",
   "nbconvert_exporter": "python",
   "pygments_lexer": "ipython3",
   "version": "3.6.0"
  }
 },
 "nbformat": 4,
 "nbformat_minor": 2
}
