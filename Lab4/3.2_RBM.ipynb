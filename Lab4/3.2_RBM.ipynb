{
 "cells": [
  {
   "cell_type": "code",
   "execution_count": 1,
   "metadata": {
    "collapsed": true
   },
   "outputs": [],
   "source": [
    "import numpy as np\n",
    "import pandas as pd\n",
    "import matplotlib.pyplot as plt\n",
    "from sklearn.neural_network import BernoulliRBM"
   ]
  },
  {
   "cell_type": "code",
   "execution_count": 2,
   "metadata": {
    "collapsed": true
   },
   "outputs": [],
   "source": [
    "X_train = pd.read_csv(\"MNIST_data/bindigit_trn.csv\",header=None,dtype=np.float32).as_matrix()\n",
    "y_train = pd.read_csv(\"MNIST_data/targetdigit_trn.csv\",header=None,names=[\"Label\"],dtype=np.float32).as_matrix()\n",
    "\n",
    "X_test = pd.read_csv(\"MNIST_data/bindigit_tst.csv\",header=None,dtype=np.float32).as_matrix()\n",
    "y_test = pd.read_csv(\"MNIST_data/targetdigit_tst.csv\",header=None,names=[\"Label\"],dtype=np.float32).as_matrix()"
   ]
  },
  {
   "cell_type": "code",
   "execution_count": null,
   "metadata": {
    "collapsed": true
   },
   "outputs": [],
   "source": [
    "nrOfNodes = 150\n",
    "\n",
    "rbm50 = BernoulliRBM(n_components=nrOfNodes, learning_rate=0.01,n_iter=20,\n",
    "                     batch_size=64, random_state=42,verbose=True)"
   ]
  }
 ],
 "metadata": {
  "kernelspec": {
   "display_name": "Python 3",
   "language": "python",
   "name": "python3"
  },
  "language_info": {
   "codemirror_mode": {
    "name": "ipython",
    "version": 3
   },
   "file_extension": ".py",
   "mimetype": "text/x-python",
   "name": "python",
   "nbconvert_exporter": "python",
   "pygments_lexer": "ipython3",
   "version": "3.6.0"
  }
 },
 "nbformat": 4,
 "nbformat_minor": 2
}
